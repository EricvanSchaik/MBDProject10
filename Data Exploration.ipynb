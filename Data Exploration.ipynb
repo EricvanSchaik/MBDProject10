{
 "cells": [
  {
   "cell_type": "code",
   "execution_count": null,
   "id": "39c8f801",
   "metadata": {},
   "outputs": [],
   "source": [
    "from pyspark.sql.functions import *\n",
    "from IPython.core.display import HTML\n",
    "import numpy as np\n",
    "import pandas as pd\n",
    "import matplotlib.pyplot as plt\n",
    "import matplotlib\n",
    "from mpl_toolkits.basemap import Basemap\n",
    "from matplotlib.animation import FuncAnimation\n",
    "from matplotlib import animation\n",
    "from scipy import interpolate\n",
    "from scipy.stats import gaussian_kde\n",
    "from matplotlib.colors import LinearSegmentedColormap\n",
    "from tqdm.notebook import tqdm\n",
    "\n",
    "%matplotlib inline\n",
    "BuGrRd_colors = [(0, 0, 1), (0, 1, 0), (1, 0, 0)]\n",
    "BuGrRd = LinearSegmentedColormap.from_list(\"BuGrRd\", BuGrRd_colors, N=100)\n",
    "plt.rcParams['animation.embed_limit'] = 2**128\n",
    "plt.rcParams[\"animation.html\"] = \"jshtml\"\n",
    "display(HTML(\"<style>pre { white-space: pre !important; }</style>\"))\n",
    "sc.setLogLevel(\"ERROR\")\n",
    "spark.conf.set(\"spark.sql.crossJoin.enabled\", \"true\")"
   ]
  },
  {
   "cell_type": "markdown",
   "id": "e2a85e53",
   "metadata": {},
   "source": [
    "# Description of the dataset\n",
    "\n",
    "One file per month is provided as a csv file with the following\n",
    "features:\n",
    "\n",
    "- **callsign**: the identifier of the flight displayed on ATC screens\n",
    "  (usually the first three letters are reserved for an airline: AFR\n",
    "  for Air France, DLH for Lufthansa, etc.)\n",
    "- **number**: the commercial number of the flight, when available (the\n",
    "  matching with the callsign comes from public open API)\n",
    "- **icao24**: the transponder unique identification number;\n",
    "- **registration**: the aircraft tail number (when available);\n",
    "- **typecode**: the aircraft model type (when available);\n",
    "- **origin**: a four letter code for the origin airport of the flight\n",
    "  (when available);\n",
    "- **destination**: a four letter code for the destination airport of\n",
    "  the flight (when available);\n",
    "- **firstseen**: the UTC timestamp of the first message received by\n",
    "  the OpenSky Network;\n",
    "- **lastseen**: the UTC timestamp of the last message received by the\n",
    "  OpenSky Network;\n",
    "- **day**: the UTC day of the last message received by the OpenSky\n",
    "  Network."
   ]
  },
  {
   "cell_type": "markdown",
   "id": "6541d0ef",
   "metadata": {},
   "source": [
    "# Simple Data Separation and Exploration"
   ]
  },
  {
   "cell_type": "code",
   "execution_count": null,
   "id": "a8bde455",
   "metadata": {},
   "outputs": [],
   "source": [
    "df = spark.read.csv(\"/user/s1919377/flights/*\", header='true')\n",
    "df = df.withColumn(\"firstseen\",to_timestamp(\"firstseen\", \"yyyy-MM-dd HH:mm:ss\")) \\\n",
    "       .withColumn(\"lastseen\",to_timestamp(\"lastseen\", \"yyyy-MM-dd HH:mm:ss\")) \\\n",
    "       .withColumn(\"day\",to_timestamp(\"day\", \"yyyy-MM-dd HH:mm:ss\")) \\\n",
    "       .withColumn(\"longitude_1\",col(\"longitude_1\").cast(\"float\")) \\\n",
    "       .withColumn(\"longitude_2\",col(\"longitude_2\").cast(\"float\")) \\\n",
    "       .withColumn(\"latitude_1\",col(\"latitude_1\").cast(\"float\")) \\\n",
    "       .withColumn(\"latitude_2\",col(\"latitude_2\").cast(\"float\")) \\\n",
    "       .withColumn(\"altitude_1\",col(\"altitude_1\").cast(\"float\")) \\\n",
    "       .withColumn(\"altitude_2\",col(\"altitude_2\").cast(\"float\"))\n",
    "df.show(truncate=False)\n",
    "df.printSchema()"
   ]
  },
  {
   "cell_type": "markdown",
   "id": "04397dbd",
   "metadata": {},
   "source": [
    "## Two Days With and Without COVID-19"
   ]
  },
  {
   "cell_type": "code",
   "execution_count": null,
   "id": "55268ea9",
   "metadata": {},
   "outputs": [],
   "source": [
    "day_precovid = df.where(col('day') == lit(\"2019-08-01\")).persist()\n",
    "day_precovid.show()"
   ]
  },
  {
   "cell_type": "code",
   "execution_count": null,
   "id": "dcaebcef",
   "metadata": {},
   "outputs": [],
   "source": [
    "day_covid = df.where(col('day') == lit('2020-04-01')).persist()\n",
    "day_covid.show()"
   ]
  },
  {
   "cell_type": "code",
   "execution_count": null,
   "id": "04178349",
   "metadata": {},
   "outputs": [],
   "source": [
    "two_days_covid_pandas['firstseen'] = pd.to_datetime(two_days_covid_pandas['firstseen'], format=\"%Y-%m-%d %H:%M:%S\")\n",
    "two_days_covid_pandas['lastseen'] = pd.to_datetime(two_days_covid_pandas['lastseen'], format=\"%Y-%m-%d %H:%M:%S\")\n",
    "two_days_covid_pandas.head()"
   ]
  },
  {
   "cell_type": "markdown",
   "id": "74180d5a",
   "metadata": {},
   "source": [
    "# Data Visualization"
   ]
  },
  {
   "cell_type": "code",
   "execution_count": null,
   "id": "f6d29d69",
   "metadata": {},
   "outputs": [],
   "source": [
    "cache = {}"
   ]
  },
  {
   "cell_type": "code",
   "execution_count": null,
   "id": "ca008c4e",
   "metadata": {},
   "outputs": [],
   "source": [
    "def make_animation(dataframe, steps, interval, bounds=[[-180, -90], [180, 90]], map_resolution='l', airports=None, cache_id=None, density=False):\n",
    "    times = np.array(dataframe.select(unix_timestamp(\"firstseen\"), unix_timestamp(\"lastseen\")).collect())\n",
    "    values_lon = np.array(dataframe.select(\"longitude_1\", \"longitude_2\").collect())\n",
    "    values_lat = np.array(dataframe.select(\"latitude_1\", \"latitude_2\").collect())\n",
    "    \n",
    "    min_time = np.min(times[:, 0])\n",
    "    max_time = np.max(times[:, 1])\n",
    "\n",
    "    time_per_step = (max_time - min_time) / steps\n",
    "    starts_ends = np.round((times - min_time) / time_per_step).astype(np.int)\n",
    "    stepped_steps = np.arange(starts_ends.shape[0]) * steps\n",
    "    \n",
    "    lon_interp = None\n",
    "    lat_interp = None\n",
    "    if cache_id is None or cache_id not in cache or len(cache[cache_id]) < steps:\n",
    "        adjusted_starts_ends = starts_ends + np.repeat(np.reshape(stepped_steps, (-1, 1)), starts_ends.shape[1], axis=1)\n",
    "\n",
    "        known_values_lon = np.repeat(values_lon.flatten(), np.array([starts_ends[:, 0], steps - starts_ends[:, 1]]).T.flatten())\n",
    "        known_values_lat = np.repeat(values_lat.flatten(), np.array([starts_ends[:, 0], steps - starts_ends[:, 1]]).T.flatten())\n",
    "\n",
    "        unknown_ranges = np.concatenate([np.arange(x, y) for x, y in adjusted_starts_ends])\n",
    "        known_ranges = np.delete(np.arange(steps * values_lon.shape[0]), unknown_ranges)\n",
    "\n",
    "        lon_interp = interpolate.interp1d(known_ranges, known_values_lon, fill_value=\"extrapolate\")\n",
    "        lat_interp = interpolate.interp1d(known_ranges, known_values_lat, fill_value=\"extrapolate\")\n",
    "    \n",
    "    # INSTANTIATE THE PLOT\n",
    "    fig, ax = plt.subplots(figsize=(20, 10))\n",
    "\n",
    "    # MAP CODE\n",
    "    m = Basemap(ax=ax, llcrnrlon=bounds[0][0], llcrnrlat=bounds[0][1], urcrnrlon=bounds[1][0], urcrnrlat=bounds[1][1],\n",
    "               resolution=map_resolution)\n",
    "    m.fillcontinents(color=\"#FFDDCC\", lake_color='#DDEEFF')\n",
    "    m.drawmapboundary(fill_color=\"#DDEEFF\")\n",
    "    m.drawcoastlines()\n",
    "\n",
    "    # THE SCATTER PLOT ITSELF\n",
    "    x, y = m(values_lon[:, 0], values_lat[:, 0])\n",
    "    scatter = None\n",
    "    norm = None\n",
    "    bins = 50\n",
    "    if density:\n",
    "        d , x_e, y_e = np.histogram2d(x, y, bins = bins, density = True )\n",
    "        z = interpolate.interpn( ( 0.5*(x_e[1:] + x_e[:-1]) , 0.5*(y_e[1:]+y_e[:-1]) ) , d , np.vstack([x,y]).T , method = \"splinef2d\", bounds_error = False)\n",
    "\n",
    "        #To be sure to plot all data\n",
    "        z[np.where(np.isnan(z))] = 0.0\n",
    "\n",
    "        # Sort the points by density, so that the densest points are plotted last\n",
    "        idx = z.argsort()\n",
    "        sorted_x, sorted_y, z = x[idx], y[idx], z[idx]\n",
    "        norm = matplotlib.colors.Normalize(vmin=0, vmax=z[-1] + np.std(z) * 2)\n",
    "        scatter = ax.scatter(sorted_x, sorted_y, c=z, s=0.5, zorder=3, cmap=BuGrRd)\n",
    "    else:\n",
    "        scatter = ax.scatter(x, y, color='red', s=0.5, zorder=3)\n",
    "    \n",
    "    if airports is not None:\n",
    "        airports_x, airports_y = m(airports['longitude'], airports['latitude'])\n",
    "        ax.scatter(airports_x, airports_y, color='blue', zorder=4)\n",
    "\n",
    "    # THE METHOD TO UPDATE THE VALUES IN THE PLOT FOR EACH ANIMATION STEP\n",
    "    def animate(i):\n",
    "        data = None\n",
    "        if cache_id is None:\n",
    "            vals = i + stepped_steps\n",
    "            new_x, new_y = m(lon_interp(vals), lat_interp(vals))\n",
    "            data = np.column_stack((new_x, new_y))\n",
    "        elif cache_id in cache and len(cache[cache_id]) >= steps:\n",
    "            data = cache[cache_id][i]\n",
    "        else:\n",
    "            vals = i + stepped_steps\n",
    "            new_x, new_y = m(lon_interp(vals), lat_interp(vals))\n",
    "            data = np.column_stack((new_x, new_y))\n",
    "            if cache_id in cache:\n",
    "                cache[cache_id].append(data)\n",
    "            else:\n",
    "                cache[cache_id] = [data]\n",
    "        \n",
    "        # UPDATE THE PLOT VALUES\n",
    "        \n",
    "        if density:\n",
    "            new_x = data[:, 0]\n",
    "            new_y = data[:, 1]\n",
    "\n",
    "            d , x_e, y_e = np.histogram2d(new_x, new_y, bins = bins, density = True )\n",
    "            z = interpolate.interpn( ( 0.5*(x_e[1:] + x_e[:-1]) , 0.5*(y_e[1:]+y_e[:-1]) ) , d , np.vstack([new_x,new_y]).T , method = \"splinef2d\", bounds_error = False)\n",
    "\n",
    "            #To be sure to plot all data\n",
    "            z[np.where(np.isnan(z))] = 0.0\n",
    "\n",
    "            # Sort the points by density, so that the densest points are plotted last\n",
    "            idx = z.argsort()\n",
    "            sorted_x, sorted_y, z = new_x[idx], new_y[idx], z[idx]\n",
    "            scatter.set_color(BuGrRd(norm(z)))\n",
    "            data = np.column_stack((sorted_x, sorted_y))\n",
    "        scatter.set_offsets(data)\n",
    "        pbar.update(1)\n",
    "        return scatter\n",
    "    \n",
    "    pbar = tqdm(total=steps + 1)\n",
    "\n",
    "    # CREATE AND RETURN THE ANIMATION\n",
    "    return FuncAnimation(fig, animate, interval=interval, frames=steps)"
   ]
  },
  {
   "cell_type": "markdown",
   "id": "982b839c",
   "metadata": {},
   "source": [
    "## Flights Before COVID-19"
   ]
  },
  {
   "cell_type": "code",
   "execution_count": null,
   "id": "cfb4cd8d",
   "metadata": {},
   "outputs": [],
   "source": [
    "anim_non_covid = make_animation(two_days_non_covid_pandas, 200, 50)\n",
    "anim_non_covid"
   ]
  },
  {
   "cell_type": "markdown",
   "id": "b923fa66",
   "metadata": {},
   "source": [
    "## Flights During COVID-19"
   ]
  },
  {
   "cell_type": "code",
   "execution_count": null,
   "id": "c38f7256",
   "metadata": {},
   "outputs": [],
   "source": [
    "anim_covid = make_animation(two_days_covid_pandas, 200, 50)\n",
    "anim_covid"
   ]
  },
  {
   "cell_type": "markdown",
   "id": "053ed983",
   "metadata": {},
   "source": [
    "### In Europe"
   ]
  },
  {
   "cell_type": "code",
   "execution_count": null,
   "id": "ebae3fc2",
   "metadata": {},
   "outputs": [],
   "source": [
    "europe_bounds = [\n",
    "    [-24.0, 34.41],\n",
    "    [49.98, 71.28]\n",
    "]\n",
    "europe_precovid = day_precovid.where(((col('longitude_1') >= europe_bounds[0][0]) & (col('longitude_1') <= europe_bounds[1][0])) &\n",
    "                                                    ((col('latitude_1') >= europe_bounds[0][1]) & (col('latitude_1') <= europe_bounds[1][1])) |\n",
    "                                                   ((col('longitude_2') >= europe_bounds[0][0]) & (col('longitude_2') <= europe_bounds[1][0])) &\n",
    "                                                    ((col('latitude_2') >= europe_bounds[0][1]) & (col('latitude_2') <= europe_bounds[1][1]))\n",
    "                                                   )\n",
    "europe_precovid.show()"
   ]
  },
  {
   "cell_type": "code",
   "execution_count": null,
   "id": "79576cb9",
   "metadata": {},
   "outputs": [],
   "source": [
    "europe_covid = day_covid.where(((col('longitude_1') >= europe_bounds[0][0]) & (col('longitude_1') <= europe_bounds[1][0])) &\n",
    "                                                    ((col('latitude_1') >= europe_bounds[0][1]) & (col('latitude_1') <= europe_bounds[1][1])) |\n",
    "                                                   ((col('longitude_2') >= europe_bounds[0][0]) & (col('longitude_2') <= europe_bounds[1][0])) &\n",
    "                                                    ((col('latitude_2') >= europe_bounds[0][1]) & (col('latitude_2') <= europe_bounds[1][1]))\n",
    "                                                   )\n",
    "europe_covid.show()"
   ]
  },
  {
   "cell_type": "code",
   "execution_count": null,
   "id": "c2b9a0c1",
   "metadata": {},
   "outputs": [],
   "source": [
    "europe_precovid_anim = make_animation(europe_precovid, 100, 50, europe_bounds, 'i', density=True)\n",
    "europe_precovid_anim"
   ]
  },
  {
   "cell_type": "markdown",
   "id": "70907db6",
   "metadata": {},
   "source": [
    "## Plot With Airports"
   ]
  },
  {
   "cell_type": "code",
   "execution_count": null,
   "id": "1a590624",
   "metadata": {},
   "outputs": [],
   "source": [
    "airport_metadata = spark.read.json('file:///home/s1919377/project/airport_codes.json')\n",
    "airport_metadata = airport_metadata.withColumn(\"longitude\",split(\"coordinates\", ', ').getItem(0).cast(\"float\")) \\\n",
    "                                   .withColumn(\"latitude\",split(\"coordinates\", ', ').getItem(1).cast(\"float\"))\n",
    "airport_metadata.show()\n",
    "airport_metadata.printSchema()"
   ]
  },
  {
   "cell_type": "markdown",
   "id": "d6dc4d4a",
   "metadata": {},
   "source": [
    "### European Airports"
   ]
  },
  {
   "cell_type": "code",
   "execution_count": null,
   "id": "0af14ba3",
   "metadata": {},
   "outputs": [],
   "source": [
    "large_european_airports = airport_metadata[(airport_metadata.continent == 'EU') & (airport_metadata.type == 'large_airport')]\n",
    "\n",
    "fig, ax = plt.subplots(figsize=(20,10))\n",
    "\n",
    "m = Basemap(ax=ax, llcrnrlon=europe_bounds[0][0], llcrnrlat=europe_bounds[0][1],\n",
    "            urcrnrlon=europe_bounds[1][0], urcrnrlat=europe_bounds[1][1],\n",
    "            resolution='i')\n",
    "m.fillcontinents(color=\"#FFDDCC\", lake_color='#DDEEFF')\n",
    "m.drawmapboundary(fill_color=\"#DDEEFF\")\n",
    "m.drawcoastlines()\n",
    "\n",
    "x, y = m(large_european_airports['longitude'], large_european_airports['latitude'])\n",
    "ax.scatter(x, y, color='blue', zorder=3)\n",
    "\n",
    "for i, row in large_european_airports.iterrows():\n",
    "    code = row['ident']\n",
    "    ax.annotate(code, (x[i], y[i]))\n",
    "\n",
    "plt.show()"
   ]
  },
  {
   "cell_type": "code",
   "execution_count": null,
   "id": "3824038e",
   "metadata": {},
   "outputs": [],
   "source": [
    "fig, ax = plt.subplots(figsize=(20,10))\n",
    "\n",
    "values_lon = europe_flights_non_covid_pd[['longitude_1']].astype(np.float).to_numpy()\n",
    "values_lat = europe_flights_non_covid_pd[['latitude_1']].astype(np.float).to_numpy()\n",
    "\n",
    "m = Basemap(ax=ax, llcrnrlon=europe_bounds[0][0], llcrnrlat=europe_bounds[0][1],\n",
    "            urcrnrlon=europe_bounds[1][0], urcrnrlat=europe_bounds[1][1],\n",
    "            resolution='i')\n",
    "m.fillcontinents(color=\"#FFDDCC\", lake_color='#DDEEFF')\n",
    "m.drawmapboundary(fill_color=\"#DDEEFF\")\n",
    "m.drawcoastlines()\n",
    "\n",
    "x, y = m(values_lon.flatten(), values_lat.flatten())\n",
    "x = x.flatten()\n",
    "y = y.flatten()\n",
    "\n",
    "bins = 50\n",
    "\n",
    "data , x_e, y_e = np.histogram2d(x, y, bins = bins, density = True )\n",
    "z = interpolate.interpn( ( 0.5*(x_e[1:] + x_e[:-1]) , 0.5*(y_e[1:]+y_e[:-1]) ) , data , np.vstack([x,y]).T , method = \"splinef2d\", bounds_error = False)\n",
    "\n",
    "#To be sure to plot all data\n",
    "z[np.where(np.isnan(z))] = 0.0\n",
    "\n",
    "# Sort the points by density, so that the densest points are plotted last\n",
    "if True :\n",
    "    idx = z.argsort()\n",
    "    x, y, z = x[idx], y[idx], z[idx]\n",
    "\n",
    "scat = ax.scatter(x, y, c=z, s=0.5, zorder=3, cmap=BuGrRd)\n",
    "\n",
    "plt.show()"
   ]
  },
  {
   "cell_type": "code",
   "execution_count": null,
   "id": "0c8da1d4",
   "metadata": {},
   "outputs": [],
   "source": [
    "europe_covid = day_covid.where(((col('longitude_1') >= europe_bounds[0][0]) & (col('longitude_1') <= europe_bounds[1][0])) &\n",
    "                                                    ((col('latitude_1') >= europe_bounds[0][1]) & (col('latitude_1') <= europe_bounds[1][1])) |\n",
    "                                                   ((col('longitude_2') >= europe_bounds[0][0]) & (col('longitude_2') <= europe_bounds[1][0])) &\n",
    "                                                    ((col('latitude_2') >= europe_bounds[0][1]) & (col('latitude_2') <= europe_bounds[1][1]))\n",
    "                                                   )"
   ]
  },
  {
   "cell_type": "code",
   "execution_count": null,
   "id": "c2747435",
   "metadata": {},
   "outputs": [],
   "source": [
    "europe_covid_anim = make_animation(europe_covid, 100, 50,\n",
    "                                   bounds=europe_bounds,\n",
    "                                   map_resolution='i',\n",
    "                                   density=True)\n",
    "europe_covid_anim"
   ]
  },
  {
   "cell_type": "markdown",
   "id": "6c24a479",
   "metadata": {},
   "source": [
    "## Large European Airports By Origin Count"
   ]
  },
  {
   "cell_type": "code",
   "execution_count": null,
   "id": "aa44a3ef",
   "metadata": {},
   "outputs": [],
   "source": [
    "large_european_airports = airport_metadata.where((col('continent') == 'EU') & (col('type') == 'large_airport'))\n",
    "df_europe = df.join(large_european_airports,\n",
    "                    [(df.origin == large_european_airports.ident) | (df.destination == large_european_airports.ident)],\n",
    "                    'leftsemi').persist()"
   ]
  },
  {
   "cell_type": "code",
   "execution_count": null,
   "id": "6367d09e",
   "metadata": {},
   "outputs": [],
   "source": [
    "covid_counts = day_covid.groupBy('origin').count().show()"
   ]
  },
  {
   "cell_type": "code",
   "execution_count": null,
   "id": "1cb7637a",
   "metadata": {},
   "outputs": [],
   "source": [
    "precovid_counts = day_precovid.groupBy('origin').count()\n",
    "covid_counts = day_covid.groupBy('origin').count()\n",
    "large_european_airports = large_european_airports \\\n",
    "    .join(precovid_counts, [large_european_airports.ident == precovid_counts.origin], \"inner\") \\\n",
    "    .drop(\"origin\") \\\n",
    "    .withColumnRenamed(\"count\",\"precovid_count\") \\\n",
    "    .join(covid_counts, [large_european_airports.ident == covid_counts.origin], \"inner\") \\\n",
    "    .drop(\"origin\") \\\n",
    "    .withColumnRenamed(\"count\",\"covid_count\")"
   ]
  },
  {
   "cell_type": "markdown",
   "id": "895efde2",
   "metadata": {},
   "source": [
    "### Before COVID"
   ]
  },
  {
   "cell_type": "code",
   "execution_count": null,
   "id": "251476c9",
   "metadata": {},
   "outputs": [],
   "source": [
    "fig, ax = plt.subplots(figsize=(20,10))\n",
    "\n",
    "m = Basemap(ax=ax, llcrnrlon=europe_bounds[0][0], llcrnrlat=europe_bounds[0][1],\n",
    "            urcrnrlon=europe_bounds[1][0], urcrnrlat=europe_bounds[1][1],\n",
    "            resolution='i')\n",
    "m.fillcontinents(color=\"#FFDDCC\", lake_color='#DDEEFF')\n",
    "m.drawmapboundary(fill_color=\"#DDEEFF\")\n",
    "m.drawcoastlines()\n",
    "\n",
    "m.scatter(large_european_airports.select(\"longitude\").collect(),\n",
    "          large_european_airports.select(\"latitude\").collect(), latlon=True,\n",
    "          c=np.log10(large_european_airports.select(\"precovid_count\").collect()),\n",
    "          s=large_european_airports.select(\"precovid_count\").collect(),\n",
    "          cmap='Reds', alpha=0.5, zorder=3)\n",
    "\n",
    "plt.show()"
   ]
  },
  {
   "cell_type": "markdown",
   "id": "e5490dbb",
   "metadata": {},
   "source": [
    "### During COVID"
   ]
  },
  {
   "cell_type": "code",
   "execution_count": null,
   "id": "1e318971",
   "metadata": {},
   "outputs": [],
   "source": [
    "fig, ax = plt.subplots(figsize=(20,10))\n",
    "\n",
    "m = Basemap(ax=ax, llcrnrlon=europe_bounds[0][0], llcrnrlat=europe_bounds[0][1],\n",
    "            urcrnrlon=europe_bounds[1][0], urcrnrlat=europe_bounds[1][1],\n",
    "            resolution='i')\n",
    "m.fillcontinents(color=\"#FFDDCC\", lake_color='#DDEEFF')\n",
    "m.drawmapboundary(fill_color=\"#DDEEFF\")\n",
    "m.drawcoastlines()\n",
    "\n",
    "m.scatter(large_european_airports.select(\"longitude\").collect(),\n",
    "          large_european_airports.select(\"latitude\").collect(), latlon=True,\n",
    "          c=np.log10(large_european_airports.select(\"covid_count\").collect()),\n",
    "          s=large_european_airports.select(\"covid_count\").collect(),\n",
    "          cmap='Blues', alpha=0.5, zorder=3)\n",
    "\n",
    "plt.show()"
   ]
  },
  {
   "cell_type": "markdown",
   "id": "b874b772",
   "metadata": {},
   "source": [
    "## Animate Airport Density"
   ]
  },
  {
   "cell_type": "code",
   "execution_count": null,
   "id": "9b749dbd",
   "metadata": {},
   "outputs": [],
   "source": [
    "df_europe.show()\n",
    "df_europe.printSchema()"
   ]
  },
  {
   "cell_type": "code",
   "execution_count": null,
   "id": "d2dac425",
   "metadata": {},
   "outputs": [],
   "source": [
    "unique_days = df_europe \\\n",
    "    .select(\"day\") \\\n",
    "    .distinct() \\\n",
    "    .sort(col('day').asc()) \\\n",
    "    .collect()\n",
    "unique_days = np.array(unique_days).flatten()"
   ]
  },
  {
   "cell_type": "code",
   "execution_count": null,
   "id": "8abe9354",
   "metadata": {},
   "outputs": [],
   "source": [
    "first_day = df_europe.where(col(\"day\") == unique_days[0])\n",
    "first_day_counts = first_day.groupBy('origin').count()\n",
    "first_day_densities = large_european_airports \\\n",
    "    .join(first_day_counts, [large_european_airports.ident == first_day.origin], \"inner\") \\\n",
    "    .drop(\"origin\")\n",
    "first_day_densities.show()"
   ]
  },
  {
   "cell_type": "code",
   "execution_count": null,
   "id": "fab1ab3a",
   "metadata": {},
   "outputs": [],
   "source": [
    "fig, ax = plt.subplots(figsize=(20,10))\n",
    "\n",
    "m = Basemap(ax=ax, llcrnrlon=europe_bounds[0][0], llcrnrlat=europe_bounds[0][1],\n",
    "            urcrnrlon=europe_bounds[1][0], urcrnrlat=europe_bounds[1][1],\n",
    "            resolution='i')\n",
    "m.fillcontinents(color=\"#FFDDCC\", lake_color='#DDEEFF')\n",
    "m.drawmapboundary(fill_color=\"#DDEEFF\")\n",
    "m.drawcoastlines()\n",
    "\n",
    "reds = matplotlib.cm.Reds\n",
    "\n",
    "x, y = m(first_day_densities.select(\"longitude\").collect(),\n",
    "          first_day_densities.select(\"latitude\").collect())\n",
    "scat = m.scatter(x, y,\n",
    "          c=np.log10(first_day_densities.select(\"count\").collect()),\n",
    "          s=first_day_densities.select(\"count\").collect(),\n",
    "          cmap=\"Reds\", alpha=0.5, zorder=3)\n",
    "\n",
    "def density_animate(i):\n",
    "    n_day = df_europe.where(col(\"day\") == unique_days[i])\n",
    "    n_day_counts = n_day.groupBy('origin').count()\n",
    "    n_day_densities = large_european_airports \\\n",
    "        .join(n_day_counts, [large_european_airports.ident == n_day.origin], \"inner\") \\\n",
    "        .drop(\"origin\")\n",
    "    x_new = np.array(n_day_densities.select(\"longitude\").collect()).flatten()\n",
    "    y_new = np.array(n_day_densities.select(\"latitude\").collect()).flatten()\n",
    "    x_new, y_new = m(x_new, y_new)\n",
    "    count = np.array(n_day_densities.select(\"count\").collect()).flatten()\n",
    "    \n",
    "    scat.set_offsets(np.column_stack((x_new, y_new)))\n",
    "    scat.set_array(np.log10(count))\n",
    "    scat.set_sizes(count)\n",
    "    \n",
    "    progress.update(1)\n",
    "    \n",
    "    return scat\n",
    "\n",
    "progress = tqdm(total=731)\n",
    "\n",
    "densities_anim = FuncAnimation(fig, density_animate, interval=50, frames=730)\n",
    "densities_anim"
   ]
  },
  {
   "cell_type": "code",
   "execution_count": null,
   "id": "3e8d67be",
   "metadata": {},
   "outputs": [],
   "source": [
    "writervideo = animation.FFMpegWriter(fps=60)\n",
    "densities_anim.save('anim.mp4', writer=writervideo)"
   ]
  },
  {
   "cell_type": "code",
   "execution_count": null,
   "id": "b01ab425",
   "metadata": {},
   "outputs": [],
   "source": []
  }
 ],
 "metadata": {
  "kernelspec": {
   "display_name": "Python 3",
   "language": "python",
   "name": "python3"
  },
  "language_info": {
   "codemirror_mode": {
    "name": "ipython",
    "version": 3
   },
   "file_extension": ".py",
   "mimetype": "text/x-python",
   "name": "python",
   "nbconvert_exporter": "python",
   "pygments_lexer": "ipython3",
   "version": "3.6.9"
  }
 },
 "nbformat": 4,
 "nbformat_minor": 5
}
