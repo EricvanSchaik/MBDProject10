{
 "cells": [
  {
   "cell_type": "code",
   "execution_count": null,
   "id": "8a363d4a",
   "metadata": {},
   "outputs": [],
   "source": [
    "from pyspark.sql.functions import *\n",
    "import matplotlib.pyplot as plt\n",
    "import matplotlib\n",
    "from pyspark.ml.regression import LinearRegression\n",
    "from pyspark.ml.feature import VectorAssembler\n",
    "from pyspark.sql.window import *\n",
    "from IPython.core.display import HTML\n",
    "import numpy as np\n",
    "\n",
    "display(HTML(\"<style>pre { white-space: pre !important; } video { width: 100% }</style>\"))\n",
    "matplotlib.use(\"pgf\")\n",
    "matplotlib.rcParams.update({\n",
    "    \"pgf.texsystem\": \"pdflatex\",\n",
    "    'font.family': 'serif',\n",
    "    'text.usetex': True,\n",
    "    'pgf.rcfonts': False,\n",
    "})\n",
    "sc.setLogLevel(\"ERROR\")"
   ]
  },
  {
   "cell_type": "code",
   "execution_count": null,
   "id": "c6025253",
   "metadata": {},
   "outputs": [],
   "source": [
    "df = spark.read.csv(\"/user/s1919377/flights/*\", header='true')\n",
    "df = df.withColumn(\"firstseen\",to_timestamp(\"firstseen\", \"yyyy-MM-dd HH:mm:ss\")) \\\n",
    "       .withColumn(\"lastseen\",to_timestamp(\"lastseen\", \"yyyy-MM-dd HH:mm:ss\")) \\\n",
    "       .withColumn(\"day\",to_timestamp(\"day\", \"yyyy-MM-dd HH:mm:ss\")) \\\n",
    "       .withColumn(\"longitude_1\",col(\"longitude_1\").cast(\"float\")) \\\n",
    "       .withColumn(\"longitude_2\",col(\"longitude_2\").cast(\"float\")) \\\n",
    "       .withColumn(\"latitude_1\",col(\"latitude_1\").cast(\"float\")) \\\n",
    "       .withColumn(\"latitude_2\",col(\"latitude_2\").cast(\"float\")) \\\n",
    "       .withColumn(\"altitude_1\",col(\"altitude_1\").cast(\"float\")) \\\n",
    "       .withColumn(\"altitude_2\",col(\"altitude_2\").cast(\"float\"))\n",
    "df.show(truncate=False)\n",
    "df.printSchema()"
   ]
  },
  {
   "cell_type": "code",
   "execution_count": null,
   "id": "492e814f",
   "metadata": {},
   "outputs": [],
   "source": [
    "airport_metadata = spark.read.json('file:///home/s1919377/project/airport_codes.json') \\\n",
    "    .withColumn(\"longitude\",split(\"coordinates\", ', ').getItem(0).cast(\"float\")) \\\n",
    "    .withColumn(\"latitude\",split(\"coordinates\", ', ').getItem(1).cast(\"float\"))"
   ]
  },
  {
   "cell_type": "code",
   "execution_count": null,
   "id": "e0d1c756",
   "metadata": {},
   "outputs": [],
   "source": [
    "df_first_month = df.where((month(\"day\") == 1) & (year(\"day\") == 2019))"
   ]
  },
  {
   "cell_type": "code",
   "execution_count": null,
   "id": "31eaab06",
   "metadata": {},
   "outputs": [],
   "source": [
    "large_airports = airport_metadata.where(col(\"type\") == \"large_airport\")\n",
    "airports_by_destination_count = df_first_month \\\n",
    "    .where(col(\"destination\").isNotNull()) \\\n",
    "    .groupby(\"destination\") \\\n",
    "    .count() \\\n",
    "    .join(large_airports, [large_airports.ident == col(\"destination\")], \"leftsemi\")\n",
    "\n",
    "top_100_airports = airports_by_destination_count \\\n",
    "    .sort(col(\"count\").desc()) \\\n",
    "    .limit(100)"
   ]
  },
  {
   "cell_type": "code",
   "execution_count": null,
   "id": "3b4eb660",
   "metadata": {},
   "outputs": [],
   "source": [
    "df_first_month = df \\\n",
    "    .where((month(\"day\") == 1) & (year(\"day\") == 2019)) \\\n",
    "    .join(top_100_airports, \"destination\", \"leftsemi\")\n",
    "df_last_month = df \\\n",
    "    .where((month(\"day\") == 12) & (year(\"day\") == 2021)) \\\n",
    "    .join(top_100_airports, \"destination\", \"leftsemi\")\n",
    "df_mid_month = df \\\n",
    "    .where((month(\"day\") == 4) & (year(\"day\") == 2020)) \\\n",
    "    .join(top_100_airports, \"destination\", \"leftsemi\")"
   ]
  },
  {
   "cell_type": "code",
   "execution_count": null,
   "id": "d7a63213",
   "metadata": {},
   "outputs": [],
   "source": [
    "df_first_month_counts = df_first_month \\\n",
    "    .groupby(\"destination\") \\\n",
    "    .count() \\\n",
    "    .withColumn(\"ix\", dense_rank().over(Window.orderBy(col(\"count\").desc()))) \\\n",
    "    .persist()\n",
    "df_last_month_counts = df_last_month \\\n",
    "    .groupby(\"destination\") \\\n",
    "    .count() \\\n",
    "    .withColumnRenamed(\"count\", \"count_temp\") \\\n",
    "    .join(df_first_month_counts, \"destination\", \"left\") \\\n",
    "    .drop(\"count\") \\\n",
    "    .withColumnRenamed(\"count_temp\", \"count\") \\\n",
    "    .sort(col(\"ix\").asc()) \\\n",
    "    .persist()\n",
    "df_mid_month_counts = df_mid_month \\\n",
    "    .groupby(\"destination\") \\\n",
    "    .count() \\\n",
    "    .withColumnRenamed(\"count\", \"count_temp\") \\\n",
    "    .join(df_first_month_counts, \"destination\", \"left\") \\\n",
    "    .drop(\"count\") \\\n",
    "    .withColumnRenamed(\"count_temp\", \"count\") \\\n",
    "    .sort(col(\"ix\").asc()) \\\n",
    "    .persist()"
   ]
  },
  {
   "cell_type": "code",
   "execution_count": null,
   "id": "9256a230",
   "metadata": {},
   "outputs": [],
   "source": [
    "vectorAssembler = VectorAssembler(inputCols = ['ix'], outputCol = 'features')\n",
    "\n",
    "vfirst_df = vectorAssembler.transform(df_first_month_counts)\n",
    "vfirst_df = vfirst_df.select(['features', 'count'])\n",
    "\n",
    "lr_first = LinearRegression(featuresCol='features', labelCol='count', maxIter=10, regParam=0.3, elasticNetParam=0.8)\n",
    "lr_model_first = lr_first.fit(vfirst_df)\n",
    "print(\"Coefficients: \" + str(lr_model_first.coefficients))\n",
    "print(\"Intercept: \" + str(lr_model_first.intercept))\n",
    "trainingSummary_first = lr_model_first.summary\n",
    "print(\"RMSE: %f\" % trainingSummary_first.rootMeanSquaredError)\n",
    "print(\"r2: %f\" % trainingSummary_first.r2)"
   ]
  },
  {
   "cell_type": "code",
   "execution_count": null,
   "id": "6058b4a2",
   "metadata": {},
   "outputs": [],
   "source": [
    "vlast_df = vectorAssembler.transform(df_last_month_counts)\n",
    "vlast_df = vlast_df.select(['features', 'count'])\n",
    "\n",
    "lr_last = LinearRegression(featuresCol='features', labelCol='count', maxIter=10, regParam=0.3, elasticNetParam=0.8)\n",
    "lr_model_last = lr_last.fit(vlast_df)\n",
    "print(\"Coefficients: \" + str(lr_model_last.coefficients))\n",
    "print(\"Intercept: \" + str(lr_model_last.intercept))\n",
    "trainingSummary_last = lr_model_last.summary\n",
    "print(\"RMSE: %f\" % trainingSummary_last.rootMeanSquaredError)\n",
    "print(\"r2: %f\" % trainingSummary_last.r2)"
   ]
  },
  {
   "cell_type": "code",
   "execution_count": null,
   "id": "781368ac",
   "metadata": {},
   "outputs": [],
   "source": [
    "vmid_df = vectorAssembler.transform(df_mid_month_counts)\n",
    "vmid_df = vmid_df.select(['features', 'count'])\n",
    "\n",
    "lr_mid = LinearRegression(featuresCol='features', labelCol='count', maxIter=10, regParam=0.3, elasticNetParam=0.8)\n",
    "lr_mid_last = lr_mid.fit(vmid_df)\n",
    "print(\"Coefficients: \" + str(lr_mid_last.coefficients))\n",
    "print(\"Intercept: \" + str(lr_mid_last.intercept))\n",
    "trainingSummary_mid = lr_mid_last.summary\n",
    "print(\"RMSE: %f\" % trainingSummary_mid.rootMeanSquaredError)\n",
    "print(\"r2: %f\" % trainingSummary_mid.r2)"
   ]
  },
  {
   "cell_type": "code",
   "execution_count": null,
   "id": "1d4ad7b7",
   "metadata": {},
   "outputs": [],
   "source": [
    "first_vals = np.array(df_first_month_counts.select(\"ix\", \"count\").collect())\n",
    "plt.plot(first_vals[:, 0], first_vals[:, 1], label=\"January 2019\")\n",
    "plt.plot(first_vals[:, 0], first_vals[:, 0] * lr_model_first.coefficients[0] + lr_model_first.intercept, linestyle=\"dashed\")\n",
    "plt.title(\"Top 100 Airports in January 2019\")\n",
    "plt.savefig('dist_first.pgf')"
   ]
  },
  {
   "cell_type": "code",
   "execution_count": null,
   "id": "741bc722",
   "metadata": {},
   "outputs": [],
   "source": [
    "last_vals = np.array(df_last_month_counts.select(\"ix\", \"count\").collect())\n",
    "plt.plot(last_vals[:, 0], last_vals[:, 1], label=\"December 2021\")\n",
    "plt.plot(last_vals[:, 0], last_vals[:, 0] * lr_model_last.coefficients[0] + lr_model_last.intercept, linestyle=\"dashed\")\n",
    "plt.title(\"Top 100 Airports in December 2021\")\n",
    "plt.savefig('dist_last.pgf')"
   ]
  },
  {
   "cell_type": "code",
   "execution_count": null,
   "id": "a0620432",
   "metadata": {},
   "outputs": [],
   "source": [
    "mid_vals = np.array(df_mid_month_counts.select(\"ix\", \"count\").collect())\n",
    "plt.plot(mid_vals[:, 0], mid_vals[:, 1], label=\"December 2021\")\n",
    "plt.plot(mid_vals[:, 0], mid_vals[:, 0] * lr_mid_last.coefficients[0] + lr_mid_last.intercept, linestyle=\"dashed\")\n",
    "plt.title(\"Top 100 Airports in April 2021\")\n",
    "plt.savefig('dist_mid.pgf')"
   ]
  },
  {
   "cell_type": "code",
   "execution_count": null,
   "id": "5104b7b9",
   "metadata": {},
   "outputs": [],
   "source": []
  }
 ],
 "metadata": {
  "kernelspec": {
   "display_name": "Python 3",
   "language": "python",
   "name": "python3"
  },
  "language_info": {
   "codemirror_mode": {
    "name": "ipython",
    "version": 3
   },
   "file_extension": ".py",
   "mimetype": "text/x-python",
   "name": "python",
   "nbconvert_exporter": "python",
   "pygments_lexer": "ipython3",
   "version": "3.6.9"
  }
 },
 "nbformat": 4,
 "nbformat_minor": 5
}
