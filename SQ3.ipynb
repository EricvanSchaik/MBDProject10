{
 "cells": [
  {
   "cell_type": "code",
   "execution_count": null,
   "id": "ac9cb0c6",
   "metadata": {},
   "outputs": [],
   "source": [
    "from pyspark.sql.functions import *\n",
    "from pyspark.sql.types import *\n",
    "from pyspark.sql import functions as F\n",
    "from pyspark.sql.window import Window\n",
    "import matplotlib.pyplot as plt\n",
    "import datetime as dt\n",
    "import numpy as np"
   ]
  },
  {
   "cell_type": "code",
   "execution_count": null,
   "id": "13517f19",
   "metadata": {},
   "outputs": [],
   "source": [
    "df = spark.read.csv(\"/user/s1919377/flights/*\", header='true')\n",
    "df = df.withColumn(\"firstseen\",to_timestamp(\"firstseen\", \"yyyy-MM-dd HH:mm:ss\")) \\\n",
    "       .withColumn(\"lastseen\",to_timestamp(\"lastseen\", \"yyyy-MM-dd HH:mm:ss\")) \\\n",
    "       .withColumn(\"day\",to_timestamp(\"day\", \"yyyy-MM-dd HH:mm:ss\")) \\\n",
    "       .withColumn(\"longitude_1\",col(\"longitude_1\").cast(\"float\")) \\\n",
    "       .withColumn(\"longitude_2\",col(\"longitude_2\").cast(\"float\")) \\\n",
    "       .withColumn(\"latitude_1\",col(\"latitude_1\").cast(\"float\")) \\\n",
    "       .withColumn(\"latitude_2\",col(\"latitude_2\").cast(\"float\")) \\\n",
    "       .withColumn(\"altitude_1\",col(\"altitude_1\").cast(\"float\")) \\\n",
    "       .withColumn(\"altitude_2\",col(\"altitude_2\").cast(\"float\"))"
   ]
  },
  {
   "cell_type": "code",
   "execution_count": null,
   "id": "9b931919",
   "metadata": {},
   "outputs": [],
   "source": [
    "measures_df = spark.read.csv(f'file://{os.getcwd()}/international-travel-covid_filtered.csv', header='true')\n",
    "measure_translation_list = [\"No measures\", \"Screening\", \"Quarantine arrivals from\\nhigh-risk regions\", \"Ban on high-risk regions\", \"Total border closure\"]\n",
    "date_range = (\"2020-02-01\",  \"2021-12-22\")"
   ]
  },
  {
   "cell_type": "markdown",
   "id": "c4110087",
   "metadata": {},
   "source": [
    "# Schiphol"
   ]
  },
  {
   "cell_type": "code",
   "execution_count": null,
   "id": "f7218ecf",
   "metadata": {},
   "outputs": [],
   "source": [
    "schiphol_data = df.where(col('destination') == 'EHAM')\n",
    "measures_nl = measures_df.where(col(\"Entity\") == \"Netherlands\").where(col('day').between(*date_range))"
   ]
  },
  {
   "cell_type": "code",
   "execution_count": null,
   "id": "a46de317",
   "metadata": {},
   "outputs": [],
   "source": [
    "measures_nl = measures_nl.withColumn('int_day', measures_nl.Day.cast('timestamp').cast('long'))\n",
    "mnl = measures_nl.toPandas()\n",
    "mnl['prev_itc'] = mnl['international_travel_controls'].shift()\n",
    "mnl = mnl.loc[mnl['international_travel_controls'] != mnl['prev_itc']]\n",
    "mnl = mnl.iloc[1: , :]"
   ]
  },
  {
   "cell_type": "code",
   "execution_count": null,
   "id": "37e59179",
   "metadata": {},
   "outputs": [],
   "source": [
    "covid_cases_nl = spark.read.option(\"multiline\",\"true\").json(f'file://{os.getcwd()}/14_day_daily.json') \\\n",
    "    .withColumn(\"date\", to_date(\"date\", \"yyyyMMdd\")) \\\n",
    "    .withColumn(\"rate_14_day_per_100k\", col(\"rate_14_day_per_100k\").cast(\"float\")) \\\n",
    "    .fillna(0, \"rate_14_day_per_100k\")\n",
    "\n",
    "covid_cases_nl = covid_cases_nl.where(col(\"country\") == \"Netherlands\").groupby(col(\"date\")).mean(\"rate_14_day_per_100k\").withColumnRenamed(\"avg(rate_14_day_per_100k)\", \"rate_14_day_per_100k\").sort('date')"
   ]
  },
  {
   "cell_type": "code",
   "execution_count": null,
   "id": "442c0b7f",
   "metadata": {},
   "outputs": [],
   "source": [
    "schiphol_data_grouped = schiphol_data \\\n",
    "    .groupby(\"day\") \\\n",
    "    .count()\n",
    "schiphol_data_joined = schiphol_data_grouped \\\n",
    "    .join(covid_cases_nl, [(to_date(schiphol_data.day) == covid_cases_nl.date)], \"inner\") \\\n",
    ".select(\"day\", \"rate_14_day_per_100k\", \"count\") \\\n",
    ".sort(col(\"day\"))"
   ]
  },
  {
   "cell_type": "code",
   "execution_count": null,
   "id": "12db2915",
   "metadata": {},
   "outputs": [],
   "source": [
    "data_schiphol_range = schiphol_data_joined.where(col('day').between(*date_range))\n",
    "\n",
    "data_schiphol_range_pd = data_schiphol_range \\\n",
    "    .toPandas() \\\n",
    "    .set_index(\"day\")\n",
    "\n",
    "rolling_avg_schiphol = data_schiphol_range_pd[[\"count\", \"rate_14_day_per_100k\"]].rolling(20).mean()\n",
    "rolling_avg_schiphol_inf = rolling_avg_schiphol[::-1]"
   ]
  },
  {
   "cell_type": "code",
   "execution_count": null,
   "id": "ab8432a7",
   "metadata": {},
   "outputs": [],
   "source": [
    "x = data_schiphol_range_pd.index.values\n",
    "\n",
    "plt.figure(figsize=(20,10)) \n",
    "plt.plot(x, rolling_avg_schiphol[\"count\"], label=\"Flights to Schiphol\")\n",
    "plt.plot(x, rolling_avg_schiphol[\"rate_14_day_per_100k\"], label=\"Cases per 100k people\")\n",
    "plt.scatter([], [], c='red',marker=r'$\\rightarrow$',s=50, label='Stricter measures' )\n",
    "plt.legend(loc='upper left', markerscale=2.5)\n",
    "\n",
    "for index, row in mnl.iterrows():\n",
    "    plt.annotate(\n",
    "        measure_translation_list[int(row[\"international_travel_controls\"])],\n",
    "        xy=(dt.datetime.fromtimestamp(row[\"int_day\"]), 0), xycoords='data',\n",
    "        xytext=(-40, 50), textcoords='offset points',\n",
    "        arrowprops=dict(arrowstyle=\"simple\", facecolor=\"red\", edgecolor=\"red\"), size=12)\n",
    "    \n",
    "plt.ylim(0, 1000)\n",
    "plt.show()"
   ]
  },
  {
   "cell_type": "markdown",
   "id": "f5740dda",
   "metadata": {},
   "source": [
    "# LAX"
   ]
  },
  {
   "cell_type": "code",
   "execution_count": null,
   "id": "f218afff",
   "metadata": {},
   "outputs": [],
   "source": [
    "lax_data = df.where(col('destination') == 'KLAX')\n",
    "measures_usa = measures_df.where(col(\"Entity\") == \"United States\").where(col('day').between(*date_range))"
   ]
  },
  {
   "cell_type": "code",
   "execution_count": null,
   "id": "bf0edffa",
   "metadata": {},
   "outputs": [],
   "source": [
    "measures_usa = measures_usa.withColumn('int_day', measures_usa.Day.cast('timestamp').cast('long'))\n",
    "musa = measures_usa.toPandas()\n",
    "musa['prev_itc'] = musa['international_travel_controls'].shift()\n",
    "musa = musa.loc[musa['international_travel_controls'] != musa['prev_itc']]\n",
    "musa = musa.iloc[2: , :]"
   ]
  },
  {
   "cell_type": "code",
   "execution_count": null,
   "id": "364f1c7e",
   "metadata": {},
   "outputs": [],
   "source": [
    "covid_cases_usa = spark.read.csv(f'file://{os.getcwd()}/usa-covid-data.csv', header=\"true\") \\\n",
    ".where(col(\"state\") == \"CA\") \\\n",
    ".withColumn(\"submission_date\", to_date(\"submission_date\", \"MM/dd/yyyy\")) \\\n",
    ".select(\"submission_date\", \"new_case\")\n",
    "\n",
    "#function to calculate number of seconds from number of days\n",
    "days = lambda i: i * 86400\n",
    "covid_cases_usa = covid_cases_usa.withColumn('submission_date', covid_cases_usa.submission_date.cast('timestamp'))\n",
    "#create window by casting timestamp to long (number of seconds)\n",
    "w = (Window.orderBy(F.col(\"submission_date\").cast('long')).rangeBetween(-days(7), 0))\n",
    "covid_cases_usa = covid_cases_usa.withColumn('rolling_average', F.avg(\"new_case\").over(w)/39.5)"
   ]
  },
  {
   "cell_type": "code",
   "execution_count": null,
   "id": "98276dab",
   "metadata": {},
   "outputs": [],
   "source": [
    "lax_data_grouped = lax_data \\\n",
    "    .groupby(\"day\") \\\n",
    "    .count()\n",
    "lax_data_joined = lax_data_grouped \\\n",
    "    .join(covid_cases_usa, [(to_date(lax_data.day) == covid_cases_usa.submission_date)], \"inner\") \\\n",
    ".drop(\"new_case\", \"submission_date\") \\\n",
    "    .sort(col(\"day\"))"
   ]
  },
  {
   "cell_type": "code",
   "execution_count": null,
   "id": "0f8b729a",
   "metadata": {},
   "outputs": [],
   "source": [
    "data_lax_range = lax_data_joined.where(col('day').between(*date_range))\n",
    "\n",
    "data_lax_range_pd = data_lax_range \\\n",
    "    .toPandas() \\\n",
    "    .set_index(\"day\")\n",
    "\n",
    "rolling_avg_lax = data_lax_range_pd[[\"count\", \"rolling_average\"]].rolling(20).mean()\n",
    "rolling_avg_lax_inf = rolling_avg_lax[::-1]"
   ]
  },
  {
   "cell_type": "code",
   "execution_count": null,
   "id": "a4c29983",
   "metadata": {},
   "outputs": [],
   "source": [
    "x = data_lax_range_pd.index.values\n",
    "xlist = np.array([-60, -120, -20, -70, -50])\n",
    "ylist = np.array([30, 30, 50, 40, 50])\n",
    "clist = np.array([\"red\", \"green\", \"red\", \"green\", \"red\"])\n",
    "musa.reset_index(drop=True, inplace=True)\n",
    "\n",
    "plt.figure(figsize=(20,10)) \n",
    "plt.plot(x, rolling_avg_lax[\"count\"], label=\"Flights to LAX\")\n",
    "plt.plot(x, rolling_avg_lax[\"rolling_average\"], label=\"Cases per 100k people\")\n",
    "plt.scatter([], [], c='green',marker=r'$\\rightarrow$',s=50, label='Looser measures' )\n",
    "plt.scatter([], [], c='red',marker=r'$\\rightarrow$',s=50, label='Stricter measures' )\n",
    "plt.legend(loc='upper left', markerscale=2.5)\n",
    "\n",
    "for index, row in musa.iterrows():\n",
    "    plt.annotate(\n",
    "        measure_translation_list[int(row[\"international_travel_controls\"])],\n",
    "        xy=(dt.datetime.fromtimestamp(row[\"int_day\"]), rolling_avg_lax_inf.loc[row[\"Day\"], 'count'].values[0]), xycoords='data',\n",
    "        xytext=(xlist[index], ylist[index]), textcoords='offset points',\n",
    "        arrowprops=dict(arrowstyle=\"simple\", facecolor=clist[index], edgecolor=clist[index]), size=12)\n",
    "    \n",
    "plt.ylim(0, 1000)\n",
    "plt.show()"
   ]
  },
  {
   "cell_type": "markdown",
   "id": "3ea3a7c7",
   "metadata": {},
   "source": [
    "# Dubai"
   ]
  },
  {
   "cell_type": "code",
   "execution_count": null,
   "id": "219cc4e0",
   "metadata": {},
   "outputs": [],
   "source": [
    "dubai_data = df.where(col('destination') == 'OMDB')\n",
    "measures_uae = measures_df.where(col(\"Entity\") == \"United Arab Emirates\").where(col('day').between(*date_range))"
   ]
  },
  {
   "cell_type": "code",
   "execution_count": null,
   "id": "4049b238",
   "metadata": {},
   "outputs": [],
   "source": [
    "measures_uae = measures_uae.withColumn('int_day', measures_uae.Day.cast('timestamp').cast('long'))\n",
    "muae = measures_uae.toPandas()\n",
    "muae['prev_itc'] = muae['international_travel_controls'].shift()\n",
    "muae = muae.loc[muae['international_travel_controls'] != muae['prev_itc']]\n",
    "muae = muae.iloc[1: , :]\n",
    "muae.drop(muae.tail(1).index,inplace=True)"
   ]
  },
  {
   "cell_type": "code",
   "execution_count": null,
   "id": "9517d205",
   "metadata": {},
   "outputs": [],
   "source": [
    "covid_cases_uae = spark.read.csv(f'file://{os.getcwd()}/uae-covid-data.csv', header=\"true\", sep=\";\") \\\n",
    ".select(\"date\", \"new_cases_per_million\") \\\n",
    ".withColumn(\"date\", to_date(\"date\", \"yyyy-MM-dd\")) \\\n",
    ".sort(\"date\")\n",
    "\n",
    "#function to calculate number of seconds from number of days\n",
    "days = lambda i: i * 86400\n",
    "covid_cases_uae = covid_cases_uae.withColumn('date', covid_cases_uae.date.cast('timestamp'))\n",
    "#create window by casting timestamp to long (number of seconds)\n",
    "w = (Window.orderBy(F.col(\"date\").cast('long')).rangeBetween(-days(7), 0))\n",
    "covid_cases_uae = covid_cases_uae.withColumn('rolling_average', F.avg(\"new_cases_per_million\").over(w))"
   ]
  },
  {
   "cell_type": "code",
   "execution_count": null,
   "id": "7f2a2a28",
   "metadata": {},
   "outputs": [],
   "source": [
    "dubai_data_grouped = dubai_data \\\n",
    "    .groupby(\"day\") \\\n",
    "    .count()\n",
    "dubai_data_joined = dubai_data_grouped \\\n",
    "    .join(covid_cases_uae, [(to_date(dubai_data.day) == covid_cases_uae.date)], \"inner\") \\\n",
    ".drop(\"m_day\", \"new_cases_per_million\", \"date\") \\\n",
    "    .sort(col(\"day\"))"
   ]
  },
  {
   "cell_type": "code",
   "execution_count": null,
   "id": "0d695883",
   "metadata": {},
   "outputs": [],
   "source": [
    "data_dubai_range = dubai_data_joined.where(col('day').between(*date_range))\n",
    "\n",
    "data_dubai_range_pd = data_dubai_range \\\n",
    "    .toPandas() \\\n",
    "    .set_index(\"day\")\n",
    "\n",
    "rolling_avg_dubai = data_dubai_range_pd[[\"count\", \"rolling_average\"]].rolling(20).mean()\n",
    "rolling_avg_dubai_inf = rolling_avg_dubai[::-1]"
   ]
  },
  {
   "cell_type": "code",
   "execution_count": null,
   "id": "6602b5cd",
   "metadata": {},
   "outputs": [],
   "source": [
    "x = data_dubai_range_pd.index.values\n",
    "xlist = np.array([-55, 0, -60, -70, -50, -30, -150, -30, 0, 100])\n",
    "ylist = np.array([50, 50, 30, 30, 60, 80, 20, 50, 60, 20])\n",
    "clist = np.array([\"red\", \"red\", \"green\", \"green\", \"red\", \"red\", \"green\", \"green\", \"red\", \"green\"])\n",
    "muae.reset_index(drop=True, inplace=True)\n",
    "\n",
    "plt.figure(figsize=(20,10)) \n",
    "plt.plot(x, rolling_avg_dubai[\"count\"], label=\"Flights to Dubai\")\n",
    "plt.plot(x, rolling_avg_dubai[\"rolling_average\"], label=\"Cases per 100k people\")\n",
    "plt.scatter([], [], c='green',marker=r'$\\rightarrow$',s=50, label='Looser measures' )\n",
    "plt.scatter([], [], c='red',marker=r'$\\rightarrow$',s=50, label='Stricter measures' )\n",
    "plt.legend(loc='upper left', markerscale=2.5)\n",
    "plt.ylim(0, 1000)\n",
    "\n",
    "for index, row in muae.iterrows():\n",
    "    an = plt.annotate(\n",
    "        measure_translation_list[int(row[\"international_travel_controls\"])],\n",
    "        xy=(dt.datetime.fromtimestamp(row[\"int_day\"]), rolling_avg_dubai_inf.loc[row[\"Day\"], 'count'].values[0]), xycoords='data',\n",
    "        xytext=(xlist[index], ylist[index]), textcoords='offset points',\n",
    "        arrowprops=dict(arrowstyle=\"simple\", facecolor=clist[index], edgecolor=clist[index]), size=12)\n",
    "plt.show()"
   ]
  }
 ],
 "metadata": {
  "kernelspec": {
   "display_name": "Python 3",
   "language": "python",
   "name": "python3"
  },
  "language_info": {
   "codemirror_mode": {
    "name": "ipython",
    "version": 3
   },
   "file_extension": ".py",
   "mimetype": "text/x-python",
   "name": "python",
   "nbconvert_exporter": "python",
   "pygments_lexer": "ipython3",
   "version": "3.6.9"
  }
 },
 "nbformat": 4,
 "nbformat_minor": 5
}
