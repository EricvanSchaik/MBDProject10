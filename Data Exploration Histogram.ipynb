{
 "cells": [
  {
   "cell_type": "code",
   "execution_count": null,
   "id": "39c8f801",
   "metadata": {},
   "outputs": [],
   "source": [
    "from pyspark.sql.functions import col\n",
    "from IPython.core.display import HTML\n",
    "import numpy as np\n",
    "import pandas as pd\n",
    "import matplotlib.pyplot as plt\n",
    "from mpl_toolkits.basemap import Basemap\n",
    "from matplotlib.animation import FuncAnimation\n",
    "from scipy import interpolate\n",
    "\n",
    "%matplotlib inline\n",
    "plt.rcParams['animation.embed_limit'] = 2**128\n",
    "plt.rcParams[\"animation.html\"] = \"jshtml\"\n",
    "display(HTML(\"<style>pre { white-space: pre !important; }</style>\"))\n",
    "sc.setLogLevel(\"ERROR\")"
   ]
  },
  {
   "cell_type": "markdown",
   "id": "e2a85e53",
   "metadata": {},
   "source": [
    "# Description of the dataset\n",
    "\n",
    "One file per month is provided as a csv file with the following\n",
    "features:\n",
    "\n",
    "- **callsign**: the identifier of the flight displayed on ATC screens\n",
    "  (usually the first three letters are reserved for an airline: AFR\n",
    "  for Air France, DLH for Lufthansa, etc.)\n",
    "- **number**: the commercial number of the flight, when available (the\n",
    "  matching with the callsign comes from public open API)\n",
    "- **icao24**: the transponder unique identification number;\n",
    "- **registration**: the aircraft tail number (when available);\n",
    "- **typecode**: the aircraft model type (when available);\n",
    "- **origin**: a four letter code for the origin airport of the flight\n",
    "  (when available);\n",
    "- **destination**: a four letter code for the destination airport of\n",
    "  the flight (when available);\n",
    "- **firstseen**: the UTC timestamp of the first message received by\n",
    "  the OpenSky Network;\n",
    "- **lastseen**: the UTC timestamp of the last message received by the\n",
    "  OpenSky Network;\n",
    "- **day**: the UTC day of the last message received by the OpenSky\n",
    "  Network."
   ]
  },
  {
   "cell_type": "markdown",
   "id": "6541d0ef",
   "metadata": {},
   "source": [
    "# Simple Data Separation and Exploration"
   ]
  },
  {
   "cell_type": "code",
   "execution_count": null,
   "id": "a8bde455",
   "metadata": {},
   "outputs": [],
   "source": [
    "df = spark.read.csv(\"/user/s1919377/flights/*\", header='true')\n",
    "df.limit(20).toPandas()"
   ]
  },
  {
   "cell_type": "markdown",
   "id": "04397dbd",
   "metadata": {},
   "source": [
    "## Two Days With and Without COVID-19"
   ]
  },
  {
   "cell_type": "code",
   "execution_count": null,
   "id": "55268ea9",
   "metadata": {},
   "outputs": [],
   "source": [
    "two_days_non_covid = df.where((col('day') == \"2019-08-01 00:00:00+00:00\") | (col('day') == \"2019-08-02 00:00:00+00:00\"))\n",
    "two_days_non_covid_pandas = two_days_non_covid.toPandas()"
   ]
  },
  {
   "cell_type": "code",
   "execution_count": null,
   "id": "67a9c0a7",
   "metadata": {},
   "outputs": [],
   "source": [
    "two_days_non_covid_pandas['firstseen'] = pd.to_datetime(two_days_non_covid_pandas['firstseen'], format=\"%Y-%m-%d %H:%M:%S\")\n",
    "two_days_non_covid_pandas['lastseen'] = pd.to_datetime(two_days_non_covid_pandas['lastseen'], format=\"%Y-%m-%d %H:%M:%S\")\n",
    "two_days_non_covid_pandas.head()"
   ]
  },
  {
   "cell_type": "code",
   "execution_count": null,
   "id": "dcaebcef",
   "metadata": {},
   "outputs": [],
   "source": [
    "two_days_covid = df.where((col('day') == \"2020-04-01 00:00:00+00:00\") | (col('day') == \"2020-04-02 00:00:00+00:00\"))\n",
    "two_days_covid_pandas = two_days_covid.toPandas()"
   ]
  },
  {
   "cell_type": "code",
   "execution_count": null,
   "id": "04178349",
   "metadata": {},
   "outputs": [],
   "source": [
    "two_days_covid_pandas['firstseen'] = pd.to_datetime(two_days_covid_pandas['firstseen'], format=\"%Y-%m-%d %H:%M:%S\")\n",
    "two_days_covid_pandas['lastseen'] = pd.to_datetime(two_days_covid_pandas['lastseen'], format=\"%Y-%m-%d %H:%M:%S\")\n",
    "two_days_covid_pandas.head()"
   ]
  },
  {
   "cell_type": "markdown",
   "id": "74180d5a",
   "metadata": {},
   "source": [
    "# Data Visualization"
   ]
  },
  {
   "cell_type": "code",
   "execution_count": null,
   "id": "ca008c4e",
   "metadata": {},
   "outputs": [],
   "source": [
    "def make_animation(dataframe, steps, interval, bounds=[[-180, -90], [180, 90]]):\n",
    "    adjusted_pandas = dataframe\n",
    "    times = adjusted_pandas[['firstseen', 'lastseen']].astype(np.int)\n",
    "    values_lon = adjusted_pandas[['longitude_1', 'longitude_2']].astype(np.float).to_numpy()\n",
    "    values_lat = adjusted_pandas[['latitude_1', 'latitude_2']].astype(np.float).to_numpy()\n",
    "    min_time = times['firstseen'].min()\n",
    "    max_time = times['lastseen'].max()\n",
    "    \n",
    "    time_per_step = (max_time - min_time) / steps\n",
    "    starts_ends = np.round((times.to_numpy() - min_time) / time_per_step).astype(np.int)\n",
    "    stepped_steps = np.arange(starts_ends.shape[0]) * steps\n",
    "    adjusted_starts_ends = starts_ends + np.repeat(np.reshape(stepped_steps, (-1, 1)), starts_ends.shape[1], axis=1)\n",
    "\n",
    "    known_values_lon = np.repeat(values_lon.flatten(), np.array([starts_ends[:, 0], steps - starts_ends[:, 1]]).T.flatten())\n",
    "    known_values_lat = np.repeat(values_lat.flatten(), np.array([starts_ends[:, 0], steps - starts_ends[:, 1]]).T.flatten())\n",
    "\n",
    "    unknown_ranges = np.concatenate([np.arange(x, y) for x, y in adjusted_starts_ends])\n",
    "    known_ranges = np.delete(np.arange(steps * values_lon.shape[0]), unknown_ranges)\n",
    "    \n",
    "    lon_interp = interpolate.interp1d(known_ranges, known_values_lon, fill_value=\"extrapolate\")\n",
    "    lat_interp = interpolate.interp1d(known_ranges, known_values_lat, fill_value=\"extrapolate\")\n",
    "    fig, ax = plt.subplots(figsize=(20, 10))\n",
    "\n",
    "    # MAP CODE\n",
    "    m = Basemap(ax=ax, llcrnrlon=bounds[0][0], llcrnrlat=bounds[0][1], urcrnrlon=bounds[1][0], urcrnrlat=bounds[1][1])\n",
    "    m.fillcontinents(color=\"#FFDDCC\", lake_color='#DDEEFF')\n",
    "    m.drawmapboundary(fill_color=\"#DDEEFF\")\n",
    "    m.drawcoastlines()\n",
    "\n",
    "    # THE PLOT ITSELF\n",
    "    scatter = ax.scatter(values_lon, values_lat, color='red', s=0.5, zorder=3)\n",
    "\n",
    "    \n",
    "    def animate(i):\n",
    "        vals = i + stepped_steps\n",
    "        data = np.column_stack((lon_interp(vals), lat_interp(vals)))\n",
    "        scatter.set_offsets(data)\n",
    "        return scatter\n",
    "\n",
    "    return FuncAnimation(fig, animate, interval=interval, frames=steps)"
   ]
  },
  {
   "cell_type": "markdown",
   "id": "982b839c",
   "metadata": {},
   "source": [
    "## Flights Before COVID-19"
   ]
  },
  {
   "cell_type": "code",
   "execution_count": null,
   "id": "cfb4cd8d",
   "metadata": {},
   "outputs": [],
   "source": [
    "anim_non_covid = make_animation(two_days_non_covid_pandas, 200, 50)\n",
    "anim_non_covid"
   ]
  },
  {
   "cell_type": "markdown",
   "id": "b923fa66",
   "metadata": {},
   "source": [
    "## Flights During COVID-19"
   ]
  },
  {
   "cell_type": "code",
   "execution_count": null,
   "id": "c38f7256",
   "metadata": {},
   "outputs": [],
   "source": [
    "anim_covid = make_animation(two_days_covid_pandas, 200, 50)\n",
    "anim_covid"
   ]
  },
  {
   "cell_type": "code",
   "execution_count": null,
   "id": "ebae3fc2",
   "metadata": {},
   "outputs": [],
   "source": [
    "europe_bounds = [\n",
    "    [-24.0, 34.41],\n",
    "    [49.98, 71.28]\n",
    "]\n",
    "europe_flights_non_covid = two_days_non_covid.where(((col('longitude_1') >= europe_bounds[0][0]) & (col('longitude_1') <= europe_bounds[1][0])) &\n",
    "                                                    ((col('latitude_1') >= europe_bounds[0][1]) & (col('latitude_1') <= europe_bounds[1][1])) |\n",
    "                                                   ((col('longitude_2') >= europe_bounds[0][0]) & (col('longitude_2') <= europe_bounds[1][0])) &\n",
    "                                                    ((col('latitude_2') >= europe_bounds[0][1]) & (col('latitude_2') <= europe_bounds[1][1]))\n",
    "                                                   )\n",
    "europe_flights_non_covid_pd = europe_flights_non_covid.toPandas()"
   ]
  },
  {
   "cell_type": "code",
   "execution_count": null,
   "id": "0c0df28f",
   "metadata": {},
   "outputs": [],
   "source": [
    "europe_flights_non_covid_pd['firstseen'] = pd.to_datetime(europe_flights_non_covid_pd['firstseen'], format=\"%Y-%m-%d %H:%M:%S\")\n",
    "europe_flights_non_covid_pd['lastseen'] = pd.to_datetime(europe_flights_non_covid_pd['lastseen'], format=\"%Y-%m-%d %H:%M:%S\")\n",
    "europe_flights_non_covid_pd.head()"
   ]
  },
  {
   "cell_type": "code",
   "execution_count": null,
   "id": "c2b9a0c1",
   "metadata": {},
   "outputs": [],
   "source": [
    "europe_non_covid_anim = make_animation(europe_flights_non_covid_pd, 200, 50, europe_bounds)\n",
    "europe_non_covid_anim"
   ]
  },
  {
   "cell_type": "code",
   "execution_count": null,
   "id": "1ae0f963",
   "metadata": {},
   "outputs": [],
   "source": [
    "df_origins_count = df.groupBy('origin').count()\n"
   ]
  }
 ],
 "metadata": {
  "kernelspec": {
   "display_name": "Python 3",
   "language": "python",
   "name": "python3"
  },
  "language_info": {
   "codemirror_mode": {
    "name": "ipython",
    "version": 3
   },
   "file_extension": ".py",
   "mimetype": "text/x-python",
   "name": "python",
   "nbconvert_exporter": "python",
   "pygments_lexer": "ipython3",
   "version": "3.6.9"
  }
 },
 "nbformat": 4,
 "nbformat_minor": 5
}
