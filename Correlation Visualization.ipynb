{
 "cells": [
  {
   "cell_type": "code",
   "execution_count": null,
   "id": "3b3632a1",
   "metadata": {},
   "outputs": [],
   "source": [
    "import matplotlib.pyplot as plt\n",
    "import matplotlib\n",
    "import numpy as np\n",
    "import scipy.stats as stats\n",
    "from pyspark.sql.functions import col, to_timestamp\n",
    "import datetime\n",
    "\n",
    "matplotlib.use(\"pgf\")\n",
    "matplotlib.rcParams.update({\n",
    "    \"pgf.texsystem\": \"pdflatex\",\n",
    "    'font.family': 'serif',\n",
    "    'text.usetex': True,\n",
    "    'pgf.rcfonts': False,\n",
    "})"
   ]
  },
  {
   "cell_type": "markdown",
   "id": "8f3988fb",
   "metadata": {},
   "source": [
    "# Aggregate Data by Top 100 Airports"
   ]
  },
  {
   "cell_type": "markdown",
   "id": "2a1f8cec",
   "metadata": {},
   "source": [
    "## Aggregated By Day"
   ]
  },
  {
   "cell_type": "code",
   "execution_count": null,
   "id": "d5d2aee3",
   "metadata": {},
   "outputs": [],
   "source": [
    "spark_top_agg_df = spark.read.csv(\"/user/s1919377/top_100_airport_aggregates.csv\", header=True) \\\n",
    "    .withColumn(\"lag\", col(\"lag\").cast(\"float\")) \\\n",
    "    .withColumn(\"correlation\", col(\"correlation\").cast(\"float\"))\n",
    "top_agg = spark_top_agg_df.toPandas()\n",
    "top_agg.head(10)"
   ]
  },
  {
   "cell_type": "code",
   "execution_count": null,
   "id": "129ef653",
   "metadata": {},
   "outputs": [],
   "source": [
    "lag_mean = np.mean(top_agg['lag'])\n",
    "lag_std = np.std(top_agg['lag'])\n",
    "print(\"Lag Mean: \", lag_mean)\n",
    "print(\"Lag Std Deviation: \", lag_std)\n",
    "lag_normal_x = np.linspace(lag_mean - 3*lag_std, lag_mean + 3*lag_std, 100)\n",
    "plt.plot(lag_normal_x, stats.norm.pdf(lag_normal_x, lag_mean, lag_std))\n",
    "plt.show()"
   ]
  },
  {
   "cell_type": "code",
   "execution_count": null,
   "id": "6fae4003",
   "metadata": {},
   "outputs": [],
   "source": [
    "corr_mean = np.mean(top_agg['correlation'])\n",
    "corr_std = np.std(top_agg['correlation'])\n",
    "print(\"Correlation Mean: \", corr_mean)\n",
    "print(\"Correlation Std Deviation: \", corr_std)\n",
    "corr_normal_x = np.linspace(corr_mean - 3*corr_std, corr_mean + 3*corr_std, 100)\n",
    "plt.plot(corr_normal_x, stats.norm.pdf(corr_normal_x, corr_mean, corr_std))\n",
    "plt.show()"
   ]
  },
  {
   "cell_type": "markdown",
   "id": "87d6ceec",
   "metadata": {},
   "source": [
    "## Aggregated By Period"
   ]
  },
  {
   "cell_type": "code",
   "execution_count": null,
   "id": "d904dc9f",
   "metadata": {},
   "outputs": [],
   "source": [
    "spark_top_agg_period_df = spark.read.csv(\"/user/s1919377/top_100_airport_aggregates_by_period.csv\", header=True) \\\n",
    "    .withColumn(\"lag\", col(\"lag\").cast(\"float\")) \\\n",
    "    .withColumn(\"correlation\", col(\"correlation\").cast(\"float\"))\n",
    "top_agg_period = spark_top_agg_period_df.toPandas()\n",
    "top_agg_period.head(10)"
   ]
  },
  {
   "cell_type": "code",
   "execution_count": null,
   "id": "d50cf70c",
   "metadata": {},
   "outputs": [],
   "source": [
    "period_lag_mean = np.mean(top_agg_period[\"lag\"])\n",
    "period_lag_std = np.std(top_agg_period[\"lag\"])\n",
    "print(\"Period Lag Mean: \", period_lag_mean)\n",
    "print(\"Period Lag Std Deviation: \", period_lag_std)\n",
    "period_lag_normal_x = np.linspace(period_lag_mean - 3*period_lag_std, period_lag_mean + 3*period_lag_std, 100)\n",
    "plt.plot(period_lag_normal_x, stats.norm.pdf(period_lag_normal_x, period_lag_mean, period_lag_std))\n",
    "plt.show()"
   ]
  },
  {
   "cell_type": "code",
   "execution_count": null,
   "id": "2247ed25",
   "metadata": {},
   "outputs": [],
   "source": [
    "period_corr_mean = np.mean(top_agg_period[\"correlation\"])\n",
    "period_corr_std = np.std(top_agg_period[\"correlation\"])\n",
    "print(\"Period Correlation Mean: \", period_corr_mean)\n",
    "print(\"Period Correlation Std Deviation: \", period_corr_std)\n",
    "period_corr_normal_x = np.linspace(period_corr_mean - 3*period_corr_std, period_corr_mean + 3*period_corr_std, 100)\n",
    "plt.plot(period_corr_normal_x, stats.norm.pdf(period_corr_normal_x, period_corr_mean, period_corr_std))\n",
    "plt.show()"
   ]
  },
  {
   "cell_type": "markdown",
   "id": "2e3b9031",
   "metadata": {},
   "source": [
    "# Aggregate Data by Mean of Top 100 Airports"
   ]
  },
  {
   "cell_type": "code",
   "execution_count": null,
   "id": "603bcb83",
   "metadata": {},
   "outputs": [],
   "source": [
    "spark_top_date_agg_df = spark.read.csv(\"/user/s1919377/top_100_date_aggregates.csv\", header=True) \\\n",
    "    .withColumn(\"mean_count\", col(\"mean_count\").cast(\"float\")) \\\n",
    "    .withColumn(\"mean_cases\", col(\"mean_cases\").cast(\"float\")) \\\n",
    "    .withColumn(\"day\",to_timestamp(\"day\")) \\\n",
    "    .sort(col(\"day\").asc())\n",
    "top_date_agg = spark_top_date_agg_df \\\n",
    "    .toPandas() \\\n",
    "    .set_index(\"day\")\n",
    "top_date_agg.head(10)"
   ]
  },
  {
   "cell_type": "code",
   "execution_count": null,
   "id": "09370bd8",
   "metadata": {},
   "outputs": [],
   "source": [
    "spark_top_period_agg_df = spark.read.csv(\"/user/s1919377/top_100_date_aggregates_by_period.csv\", header=True) \\\n",
    "    .withColumn(\"mean_count\", col(\"mean_count\").cast(\"float\")) \\\n",
    "    .withColumn(\"mean_cases\", col(\"mean_cases\").cast(\"float\")) \\\n",
    "    .withColumn(\"range_start\", to_timestamp(\"range_start\")) \\\n",
    "    .withColumn(\"range_end\", to_timestamp(\"range_end\")) \\\n",
    "    .sort(col(\"period\").asc())\n",
    "top_period_agg = spark_top_period_agg_df \\\n",
    "    .toPandas()\n",
    "top_period_agg.head(10)"
   ]
  },
  {
   "cell_type": "code",
   "execution_count": null,
   "id": "b49a9f73",
   "metadata": {},
   "outputs": [],
   "source": [
    "rolling_avg_agg = top_date_agg[[\"mean_count\", \"mean_cases\"]].rolling(20).mean()\n",
    "rolling_corr_agg = top_date_agg[\"mean_count\"].rolling(40).corr(top_date_agg[\"mean_cases\"])"
   ]
  },
  {
   "cell_type": "code",
   "execution_count": null,
   "id": "e6d5769e",
   "metadata": {},
   "outputs": [],
   "source": [
    "x = top_date_agg.index.values\n",
    "\n",
    "# plt.figure(figsize=(20,10)) \n",
    "plt.plot(x, rolling_avg_agg[\"mean_count\"], label=\"Mean Incoming flights\")\n",
    "plt.plot(x, rolling_avg_agg[\"mean_cases\"], label=\"Mean Cases per 1m people\")\n",
    "# plt.plot(x, rolling_avg[\"count\"], label=\"Schiphol Incoming flights (SMA)\")\n",
    "# plt.plot(x, rolling_avg[\"rate_14_day_per_100k\"], label=\"Schiphol Cases per 100k people (SMA)\")\n",
    "# plt.plot(x, np.pad(np.repeat(top_period_agg['mean_count'], (top_period_agg['range_end'] - top_period_agg['range_start']).dt.days), (3,0)), label=\"Average Incoming Flights in Period\")\n",
    "# plt.plot(x, np.pad(np.repeat(top_period_agg['mean_cases'], (top_period_agg['range_end'] - top_period_agg['range_start']).dt.days), (3,0)), label=\"Average Cases in Period\")\n",
    "plt.axvline(datetime.datetime(2020, 5, 31), color=\"grey\", linestyle=\"dashed\")\n",
    "plt.axvline(datetime.datetime(2020, 8, 31), color=\"grey\")\n",
    "plt.axvline(datetime.datetime(2020, 11, 30), color=\"grey\", linestyle=\"dashed\")\n",
    "plt.axvline(datetime.datetime(2021, 2, 28), color=\"grey\")\n",
    "plt.axvline(datetime.datetime(2021, 5, 31), color=\"grey\", linestyle=\"dashed\")\n",
    "plt.axvline(datetime.datetime(2021, 8, 31), color=\"grey\")\n",
    "plt.title(\"Flights and Cases of Top 100 Airports (Simple Moving Average)\")\n",
    "plt.legend(loc=\"upper left\")\n",
    "plt.gcf().autofmt_xdate()\n",
    "# plt.show()\n",
    "plt.savefig('top_means.pgf')"
   ]
  },
  {
   "cell_type": "code",
   "execution_count": null,
   "id": "a677f951",
   "metadata": {},
   "outputs": [],
   "source": [
    "plt.figure(figsize=(15,10)) \n",
    "# plt.plot(x, rolling_corr_agg, label=\"Top 100 Correlation\")\n",
    "plt.plot(x, bot_rolling_corr_agg, label=\"Bottom 100 Correlation\", color=\"C1\")\n",
    "# plt.plot(x, rolling_corr, label=\"Schiphol Correlation (Rolling)\")\n",
    "# plt.plot(x, np.pad(np.repeat(top_period_agg['mean_correlation'], (top_period_agg['range_end'] - top_period_agg['range_start']).dt.days), (3,0)), label=\"Mean Correlation by Period\")\n",
    "plt.axhline(0, color='black')\n",
    "plt.axvline(datetime.datetime(2020, 5, 31), color=\"grey\", linestyle=\"dashed\")\n",
    "plt.axvline(datetime.datetime(2020, 8, 31), color=\"grey\")\n",
    "plt.axvline(datetime.datetime(2020, 11, 30), color=\"grey\", linestyle=\"dashed\")\n",
    "plt.axvline(datetime.datetime(2021, 2, 28), color=\"grey\")\n",
    "plt.axvline(datetime.datetime(2021, 5, 31), color=\"grey\", linestyle=\"dashed\")\n",
    "plt.axvline(datetime.datetime(2021, 8, 31), color=\"grey\")\n",
    "plt.title(\"Correlation of Flights and Cases Bottom 100 Airports\")\n",
    "# plt.legend(loc=\"upper left\")\n",
    "plt.gcf().autofmt_xdate()\n",
    "# plt.ylim(0, 1000)\n",
    "plt.savefig('corrs.pgf')"
   ]
  },
  {
   "cell_type": "markdown",
   "id": "59e32f25",
   "metadata": {},
   "source": [
    "# Aggregate Data by Bottom 100 Airports"
   ]
  },
  {
   "cell_type": "markdown",
   "id": "27fb375b",
   "metadata": {},
   "source": [
    "## Aggregated By Day"
   ]
  },
  {
   "cell_type": "code",
   "execution_count": null,
   "id": "162d74fb",
   "metadata": {},
   "outputs": [],
   "source": [
    "spark_bottom_agg_df = spark.read.csv(\"/user/s1919377/bottom_100_airport_aggregates.csv\", header=True) \\\n",
    "    .withColumn(\"lag\", col(\"lag\").cast(\"float\")) \\\n",
    "    .withColumn(\"correlation\", col(\"correlation\").cast(\"float\"))\n",
    "bot_agg = spark_bottom_agg_df.toPandas()\n",
    "bot_agg.head(10)"
   ]
  },
  {
   "cell_type": "code",
   "execution_count": null,
   "id": "eea18638",
   "metadata": {},
   "outputs": [],
   "source": [
    "bot_lag_mean = np.mean(bot_agg['lag'])\n",
    "bot_lag_std = np.std(bot_agg['lag'])\n",
    "print(\"Lag Mean: \", bot_lag_mean)\n",
    "print(\"Lag Std Deviation: \", bot_lag_std)\n",
    "bot_lag_normal_x = np.linspace(bot_lag_mean - 3*bot_lag_std, bot_lag_mean + 3*bot_lag_std, 100)\n",
    "plt.plot(bot_lag_normal_x, stats.norm.pdf(bot_lag_normal_x, bot_lag_mean, bot_lag_std))\n",
    "plt.show()"
   ]
  },
  {
   "cell_type": "code",
   "execution_count": null,
   "id": "eb189662",
   "metadata": {},
   "outputs": [],
   "source": [
    "bot_corr_mean = np.mean(bot_agg['correlation'])\n",
    "bot_corr_std = np.std(bot_agg['correlation'])\n",
    "print(\"Correlation Mean: \", bot_corr_mean)\n",
    "print(\"Correlation Std Deviation: \", bot_corr_std)\n",
    "bot_corr_normal_x = np.linspace(bot_corr_mean - 3*bot_corr_std, bot_corr_mean + 3*bot_corr_std, 100)\n",
    "plt.plot(bot_corr_normal_x, stats.norm.pdf(bot_corr_normal_x, bot_corr_mean, bot_corr_std))\n",
    "plt.show()"
   ]
  },
  {
   "cell_type": "markdown",
   "id": "0531b47c",
   "metadata": {},
   "source": [
    "## Aggregated By Period"
   ]
  },
  {
   "cell_type": "code",
   "execution_count": null,
   "id": "2a3e8cd7",
   "metadata": {},
   "outputs": [],
   "source": [
    "spark_bottom_agg_period_df = spark.read.csv(\"/user/s1919377/bottom_100_airport_aggregates_by_period.csv\", header=True) \\\n",
    "    .withColumn(\"lag\", col(\"lag\").cast(\"float\")) \\\n",
    "    .withColumn(\"correlation\", col(\"correlation\").cast(\"float\"))\n",
    "bot_agg_period = spark_bottom_agg_period_df.toPandas()\n",
    "bot_agg_period.head(10)"
   ]
  },
  {
   "cell_type": "code",
   "execution_count": null,
   "id": "ca82e8a7",
   "metadata": {},
   "outputs": [],
   "source": [
    "bot_period_lag_mean = np.mean(bot_agg_period[\"lag\"])\n",
    "bot_period_lag_std = np.std(bot_agg_period[\"lag\"])\n",
    "print(\"Period Lag Mean: \", bot_period_lag_mean)\n",
    "print(\"Period Lag Std Deviation: \", bot_period_lag_std)\n",
    "bot_period_lag_normal_x = np.linspace(bot_period_lag_mean - 3*bot_period_lag_std, bot_period_lag_mean + 3*bot_period_lag_std, 100)\n",
    "plt.plot(bot_period_lag_normal_x, stats.norm.pdf(bot_period_lag_normal_x, bot_period_lag_mean, bot_period_lag_std))\n",
    "plt.show()"
   ]
  },
  {
   "cell_type": "code",
   "execution_count": null,
   "id": "a60602b3",
   "metadata": {},
   "outputs": [],
   "source": [
    "bot_period_corr_mean = np.mean(bot_agg_period[\"correlation\"])\n",
    "bot_period_corr_std = np.std(bot_agg_period[\"correlation\"])\n",
    "print(\"Period Correlation Mean: \", bot_period_corr_mean)\n",
    "print(\"Period Correlation Std Deviation: \", period_corr_std)\n",
    "bot_period_corr_normal_x = np.linspace(bot_period_corr_mean - 3*bot_period_corr_std, bot_period_corr_mean + 3*bot_period_corr_std, 100)\n",
    "plt.plot(bot_period_corr_normal_x, stats.norm.pdf(bot_period_corr_normal_x, bot_period_corr_mean, bot_period_corr_std))\n",
    "plt.show()"
   ]
  },
  {
   "cell_type": "markdown",
   "id": "64d62968",
   "metadata": {},
   "source": [
    "# Aggregate Data by Mean of Bottom 100 Airports"
   ]
  },
  {
   "cell_type": "code",
   "execution_count": null,
   "id": "e0a187b0",
   "metadata": {},
   "outputs": [],
   "source": [
    "spark_bottom_date_agg_df = spark.read.csv(\"/user/s1919377/bottom_100_date_aggregates.csv\", header=True) \\\n",
    "    .withColumn(\"mean_count\", col(\"mean_count\").cast(\"float\")) \\\n",
    "    .withColumn(\"mean_cases\", col(\"mean_cases\").cast(\"float\")) \\\n",
    "    .withColumn(\"day\",to_timestamp(\"day\")) \\\n",
    "    .sort(col(\"day\").asc())\n",
    "bot_date_agg = spark_bottom_date_agg_df \\\n",
    "    .toPandas() \\\n",
    "    .set_index(\"day\")\n",
    "bot_date_agg.head(10)"
   ]
  },
  {
   "cell_type": "code",
   "execution_count": null,
   "id": "f9266a2e",
   "metadata": {},
   "outputs": [],
   "source": [
    "spark_bot_period_agg_df = spark.read.csv(\"/user/s1919377/bottom_100_date_aggregates_by_period.csv\", header=True) \\\n",
    "    .withColumn(\"mean_count\", col(\"mean_count\").cast(\"float\")) \\\n",
    "    .withColumn(\"mean_cases\", col(\"mean_cases\").cast(\"float\")) \\\n",
    "    .withColumn(\"range_start\", to_timestamp(\"range_start\")) \\\n",
    "    .withColumn(\"range_end\", to_timestamp(\"range_end\")) \\\n",
    "    .sort(col(\"period\").asc())\n",
    "bot_period_agg = spark_bot_period_agg_df \\\n",
    "    .toPandas()\n",
    "bot_period_agg.head(10)"
   ]
  },
  {
   "cell_type": "code",
   "execution_count": null,
   "id": "f8f6aaeb",
   "metadata": {},
   "outputs": [],
   "source": [
    "bot_rolling_avg_agg = bot_date_agg[[\"mean_count\", \"mean_cases\"]].rolling(20).mean()\n",
    "bot_rolling_corr_agg = bot_date_agg[\"mean_count\"].rolling(40).corr(top_date_agg[\"mean_cases\"])"
   ]
  },
  {
   "cell_type": "code",
   "execution_count": null,
   "id": "f5987056",
   "metadata": {},
   "outputs": [],
   "source": [
    "x = top_date_agg.index.values\n",
    "\n",
    "# plt.figure(figsize=(20,10)) \n",
    "plt.plot(x, bot_rolling_avg_agg[\"mean_count\"], label=\"Mean Incoming flights\")\n",
    "plt.plot(x, bot_rolling_avg_agg[\"mean_cases\"] / 50, label=\"Mean Cases per 50m people\")\n",
    "# plt.plot(x, rolling_avg[\"count\"], label=\"Schiphol Incoming flights (SMA)\")\n",
    "# plt.plot(x, rolling_avg[\"rate_14_day_per_100k\"], label=\"Schiphol Cases per 100k people (SMA)\")\n",
    "# plt.plot(x, np.pad(np.repeat(bot_period_agg['mean_count'], (bot_period_agg['range_end'] - bot_period_agg['range_start']).dt.days), (3,0)), label=\"Average Incoming Flights in Period\")\n",
    "# plt.plot(x, np.pad(np.repeat(bot_period_agg['mean_cases'] / 10, (bot_period_agg['range_end'] - bot_period_agg['range_start']).dt.days), (3,0)), label=\"Average Cases in Period\")\n",
    "plt.axvline(datetime.datetime(2020, 5, 31), color=\"grey\", linestyle=\"dashed\")\n",
    "plt.axvline(datetime.datetime(2020, 8, 31), color=\"grey\")\n",
    "plt.axvline(datetime.datetime(2020, 11, 30), color=\"grey\", linestyle=\"dashed\")\n",
    "plt.axvline(datetime.datetime(2021, 2, 28), color=\"grey\")\n",
    "plt.axvline(datetime.datetime(2021, 5, 31), color=\"grey\", linestyle=\"dashed\")\n",
    "plt.axvline(datetime.datetime(2021, 8, 31), color=\"grey\")\n",
    "plt.gcf().autofmt_xdate()\n",
    "plt.legend(loc=\"upper left\")\n",
    "plt.title(\"Flights and Cases of Bottom 100 Airports (Simple Moving Average)\")\n",
    "plt.savefig('bot_means.pgf')"
   ]
  },
  {
   "cell_type": "code",
   "execution_count": null,
   "id": "ae99bba7",
   "metadata": {},
   "outputs": [],
   "source": [
    "bot_period_agg[\"mean_correlation\"]"
   ]
  },
  {
   "cell_type": "code",
   "execution_count": null,
   "id": "44a0fc5d",
   "metadata": {},
   "outputs": [],
   "source": [
    "plt.figure(figsize=(20,10)) \n",
    "plt.plot(x, bot_rolling_corr_agg, label=\"Average Correlation (Rolling)\")\n",
    "# plt.plot(x, rolling_corr, label=\"Schiphol Correlation (Rolling)\")\n",
    "plt.plot(x, np.pad(np.repeat(bot_period_agg['mean_correlation'], (bot_period_agg['range_end'] - bot_period_agg['range_start']).dt.days), (3,0)), label=\"Average Incoming Flights in Period\")\n",
    "plt.axhline(0, color='black')\n",
    "plt.axvline(datetime.datetime(2020, 5, 31), color=\"grey\", linestyle=\"dashed\")\n",
    "plt.axvline(datetime.datetime(2020, 8, 31), color=\"grey\")\n",
    "plt.axvline(datetime.datetime(2020, 11, 30), color=\"grey\", linestyle=\"dashed\")\n",
    "plt.axvline(datetime.datetime(2021, 2, 28), color=\"grey\")\n",
    "plt.axvline(datetime.datetime(2021, 5, 31), color=\"grey\", linestyle=\"dashed\")\n",
    "plt.axvline(datetime.datetime(2021, 8, 31), color=\"grey\")\n",
    "plt.legend(loc=\"upper left\")\n",
    "# plt.ylim(0, 1000)\n",
    "plt.show()"
   ]
  },
  {
   "cell_type": "code",
   "execution_count": null,
   "id": "8fbbdcef",
   "metadata": {},
   "outputs": [],
   "source": []
  },
  {
   "cell_type": "code",
   "execution_count": null,
   "id": "ba5ab255",
   "metadata": {},
   "outputs": [],
   "source": []
  },
  {
   "cell_type": "code",
   "execution_count": null,
   "id": "f9ada064",
   "metadata": {},
   "outputs": [],
   "source": [
    "spark_top_agg_df = spark.read.csv(\"/user/s1919377/top_100_airport_aggregates.csv\", header=True) \\\n",
    "    .withColumn(\"lag\", col(\"lag\").cast(\"float\")) \\\n",
    "    .withColumn(\"correlation\", col(\"correlation\").cast(\"float\"))\n",
    "top_agg = spark_top_agg_df.toPandas()\n",
    "spark_bottom_agg_df = spark.read.csv(\"/user/s1919377/bottom_100_airport_aggregates.csv\", header=True) \\\n",
    "    .withColumn(\"lag\", col(\"lag\").cast(\"float\")) \\\n",
    "    .withColumn(\"correlation\", col(\"correlation\").cast(\"float\"))\n",
    "bot_agg = spark_bottom_agg_df.toPandas()\n",
    "spark_eham_agg_df = spark.read.csv(\"/user/s1919377/eham_airport_aggregates.csv\", header=True) \\\n",
    "    .withColumn(\"lag\", col(\"lag\").cast(\"float\")) \\\n",
    "    .withColumn(\"correlation\", col(\"correlation\").cast(\"float\"))\n",
    "eham_agg = spark_eham_agg_df.toPandas()\n",
    "spark_klax_agg_df = spark.read.csv(\"/user/s1919377/klax_airport_aggregates.csv\", header=True) \\\n",
    "    .withColumn(\"lag\", col(\"lag\").cast(\"float\")) \\\n",
    "    .withColumn(\"correlation\", col(\"correlation\").cast(\"float\"))\n",
    "klax_agg = spark_klax_agg_df.toPandas()\n",
    "spark_omdb_agg_df = spark.read.csv(\"/user/s1919377/omdb_airport_aggregates.csv\", header=True) \\\n",
    "    .withColumn(\"lag\", col(\"lag\").cast(\"float\")) \\\n",
    "    .withColumn(\"correlation\", col(\"correlation\").cast(\"float\"))\n",
    "omdb_agg = spark_omdb_agg_df.toPandas()"
   ]
  },
  {
   "cell_type": "code",
   "execution_count": null,
   "id": "8d4dd710",
   "metadata": {},
   "outputs": [],
   "source": [
    "spark_top_agg_period_df = spark.read.csv(\"/user/s1919377/top_100_airport_aggregates_by_period.csv\", header=True) \\\n",
    "    .withColumn(\"lag\", col(\"lag\").cast(\"float\")) \\\n",
    "    .withColumn(\"correlation\", col(\"correlation\").cast(\"float\"))\n",
    "top_agg_period = spark_top_agg_period_df.toPandas()\n",
    "spark_bottom_agg_period_df = spark.read.csv(\"/user/s1919377/bottom_100_airport_aggregates_by_period.csv\", header=True) \\\n",
    "    .withColumn(\"lag\", col(\"lag\").cast(\"float\")) \\\n",
    "    .withColumn(\"correlation\", col(\"correlation\").cast(\"float\"))\n",
    "bot_agg_period = spark_bottom_agg_period_df.toPandas()\n",
    "spark_eham_agg_period_df = spark.read.csv(\"/user/s1919377/eham_airport_aggregates_by_period.csv\", header=True) \\\n",
    "    .withColumn(\"lag\", col(\"lag\").cast(\"float\")) \\\n",
    "    .withColumn(\"correlation\", col(\"correlation\").cast(\"float\"))\n",
    "eham_agg_period = spark_eham_agg_period_df.toPandas()\n",
    "spark_klax_agg_period_df = spark.read.csv(\"/user/s1919377/klax_airport_aggregates_by_period.csv\", header=True) \\\n",
    "    .withColumn(\"lag\", col(\"lag\").cast(\"float\")) \\\n",
    "    .withColumn(\"correlation\", col(\"correlation\").cast(\"float\"))\n",
    "klax_agg_period = spark_klax_agg_period_df.toPandas()\n",
    "spark_omdb_agg_period_df = spark.read.csv(\"/user/s1919377/omdb_airport_aggregates_by_period.csv\", header=True) \\\n",
    "    .withColumn(\"lag\", col(\"lag\").cast(\"float\")) \\\n",
    "    .withColumn(\"correlation\", col(\"correlation\").cast(\"float\"))\n",
    "omdb_agg_period = spark_omdb_agg_period_df.toPandas()"
   ]
  },
  {
   "cell_type": "code",
   "execution_count": null,
   "id": "0e9f38ff",
   "metadata": {},
   "outputs": [],
   "source": [
    "print(\"Top Lag Mean: \", np.mean(top_agg[\"lag\"]))\n",
    "print(\"Top Lag Mean Confidence Interval: \", stats.t.interval(0.95, len(top_agg[\"lag\"])-1, loc=np.mean(top_agg[\"lag\"]), scale=stats.sem(top_agg[\"lag\"])))\n",
    "print(\"Top Lag Mean Period: \", np.mean(top_agg_period[\"lag\"]))\n",
    "print(\"Top Lag Mean Period Confidence Interval: \", stats.t.interval(0.95, len(top_agg_period[\"lag\"])-1, loc=np.mean(top_agg_period[\"lag\"]), scale=stats.sem(top_agg_period[\"lag\"])))"
   ]
  },
  {
   "cell_type": "code",
   "execution_count": null,
   "id": "d4dbf838",
   "metadata": {},
   "outputs": [],
   "source": [
    "print(\"Top Correlation Mean: \", np.mean(top_agg[\"correlation\"]))\n",
    "print(\"Top Correlation Mean Confidence Interval: \", stats.t.interval(0.95, len(top_agg[\"correlation\"])-1, loc=np.mean(top_agg[\"correlation\"]), scale=stats.sem(top_agg[\"correlation\"])))\n",
    "print(\"Top Correlation Mean Period: \", np.mean(top_agg_period[\"correlation\"]))\n",
    "print(\"Top Correlation Mean Period Confidence Interval: \", stats.t.interval(0.95, len(top_agg_period[\"correlation\"])-1, loc=np.mean(top_agg_period[\"correlation\"]), scale=stats.sem(top_agg_period[\"correlation\"])))"
   ]
  },
  {
   "cell_type": "code",
   "execution_count": null,
   "id": "269c052a",
   "metadata": {},
   "outputs": [],
   "source": [
    "print(\"Bottom Lag Mean: \", np.mean(bot_agg[\"lag\"]))\n",
    "print(\"Bottom Lag Mean Confidence Interval: \", stats.t.interval(0.95, len(bot_agg[\"lag\"])-1, loc=np.mean(bot_agg[\"lag\"]), scale=stats.sem(bot_agg[\"lag\"])))\n",
    "print(\"Bottom Lag Mean Period: \", np.mean(bot_agg_period[\"lag\"]))\n",
    "print(\"Bottom Lag Mean Period Confidence Interval: \", stats.t.interval(0.95, len(bot_agg_period[\"lag\"])-1, loc=np.mean(bot_agg_period[\"lag\"]), scale=stats.sem(bot_agg_period[\"lag\"])))"
   ]
  },
  {
   "cell_type": "code",
   "execution_count": null,
   "id": "2aca7a6c",
   "metadata": {},
   "outputs": [],
   "source": [
    "print(\"Bottom Correlation Mean: \", np.mean(bot_agg[\"correlation\"]))\n",
    "print(\"Bottom Correlation Mean Confidence Interval: \", stats.t.interval(0.95, len(bot_agg[\"correlation\"])-1, loc=np.mean(bot_agg[\"correlation\"]), scale=stats.sem(bot_agg[\"correlation\"])))\n",
    "print(\"Bottom Correlation Mean Period: \", np.mean(bot_agg_period[\"correlation\"][~np.isnan(bot_agg_period[\"correlation\"])]))\n",
    "print(\"Bottom Correlation Mean Period Confidence Interval: \", stats.t.interval(0.95, len(bot_agg_period[\"correlation\"][~np.isnan(bot_agg_period[\"correlation\"])])-1, loc=np.mean(bot_agg_period[\"correlation\"][~np.isnan(bot_agg_period[\"correlation\"])]), scale=stats.sem(bot_agg_period[\"correlation\"][~np.isnan(bot_agg_period[\"correlation\"])])))"
   ]
  },
  {
   "cell_type": "code",
   "execution_count": null,
   "id": "0031f4c1",
   "metadata": {},
   "outputs": [],
   "source": [
    "print(\"EHAM Lag Mean: \", np.mean(eham_agg[\"lag\"]))\n",
    "print(\"EHAM Lag Mean Period: \", np.mean(eham_agg_period[\"lag\"]))\n",
    "print(\"EHAM Lag Mean Period Confidence Interval: \", stats.t.interval(0.95, len(eham_agg_period[\"lag\"])-1, loc=np.mean(eham_agg_period[\"lag\"]), scale=stats.sem(eham_agg_period[\"lag\"])))\n",
    "print(\"EHAM Correlation Mean: \", np.mean(eham_agg[\"correlation\"]))\n",
    "print(\"EHAM Correlation Mean Period: \", np.mean(eham_agg_period[\"correlation\"]))\n",
    "print(\"EHAM Correlation Mean Period Confidence Interval: \", stats.t.interval(0.95, len(eham_agg_period[\"correlation\"])-1, loc=np.mean(eham_agg_period[\"correlation\"]), scale=stats.sem(eham_agg_period[\"correlation\"])))"
   ]
  },
  {
   "cell_type": "code",
   "execution_count": null,
   "id": "373fa575",
   "metadata": {},
   "outputs": [],
   "source": [
    "print(\"KLAX Lag Mean: \", np.mean(klax_agg[\"lag\"]))\n",
    "print(\"KLAX Lag Mean Period: \", np.mean(klax_agg_period[\"lag\"]))\n",
    "print(\"KLAX Lag Mean Period Confidence Interval: \", stats.t.interval(0.95, len(klax_agg_period[\"lag\"])-1, loc=np.mean(klax_agg_period[\"lag\"]), scale=stats.sem(klax_agg_period[\"lag\"])))\n",
    "print(\"KLAX Correlation Mean: \", np.mean(klax_agg[\"correlation\"]))\n",
    "print(\"KLAX Correlation Mean Period: \", np.mean(klax_agg_period[\"correlation\"]))\n",
    "print(\"KLAX Correlation Mean Period Confidence Interval: \", stats.t.interval(0.95, len(klax_agg_period[\"correlation\"])-1, loc=np.mean(klax_agg_period[\"correlation\"]), scale=stats.sem(klax_agg_period[\"correlation\"])))"
   ]
  },
  {
   "cell_type": "code",
   "execution_count": null,
   "id": "3fbb2f25",
   "metadata": {},
   "outputs": [],
   "source": [
    "print(\"OMDB Lag Mean: \", np.mean(omdb_agg[\"lag\"]))\n",
    "print(\"OMDB Lag Mean Period: \", np.mean(omdb_agg_period[\"lag\"]))\n",
    "print(\"OMDB Lag Mean Period Confidence Interval: \", stats.t.interval(0.95, len(omdb_agg_period[\"lag\"])-1, loc=np.mean(omdb_agg_period[\"lag\"]), scale=stats.sem(omdb_agg_period[\"lag\"])))\n",
    "print(\"OMDB Correlation Mean: \", np.mean(omdb_agg[\"correlation\"]))\n",
    "print(\"OMDB Correlation Mean Period: \", np.mean(omdb_agg_period[\"correlation\"]))\n",
    "print(\"OMDB Correlation Mean Period Confidence Interval: \", stats.t.interval(0.95, len(omdb_agg_period[\"correlation\"])-1, loc=np.mean(omdb_agg_period[\"correlation\"]), scale=stats.sem(omdb_agg_period[\"correlation\"])))"
   ]
  }
 ],
 "metadata": {
  "kernelspec": {
   "display_name": "Python 3",
   "language": "python",
   "name": "python3"
  },
  "language_info": {
   "codemirror_mode": {
    "name": "ipython",
    "version": 3
   },
   "file_extension": ".py",
   "mimetype": "text/x-python",
   "name": "python",
   "nbconvert_exporter": "python",
   "pygments_lexer": "ipython3",
   "version": "3.6.9"
  }
 },
 "nbformat": 4,
 "nbformat_minor": 5
}
