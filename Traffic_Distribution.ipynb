{
 "cells": [
  {
   "cell_type": "code",
   "execution_count": null,
   "id": "39c8f801",
   "metadata": {},
   "outputs": [],
   "source": [
    "from pyspark.sql.functions import *\n",
    "from IPython.core.display import HTML\n",
    "import numpy as np\n",
    "import pandas as pd\n",
    "import matplotlib.pyplot as plt\n",
    "from matplotlib.animation import FuncAnimation\n",
    "import datetime\n",
    "\n",
    "%matplotlib inline\n",
    "sc.setLogLevel(\"ERROR\")"
   ]
  },
  {
   "cell_type": "markdown",
   "id": "e2a85e53",
   "metadata": {},
   "source": [
    "# Description of the dataset\n",
    "\n",
    "One file per month is provided as a csv file with the following\n",
    "features:\n",
    "\n",
    "- **callsign**: the identifier of the flight displayed on ATC screens\n",
    "  (usually the first three letters are reserved for an airline: AFR\n",
    "  for Air France, DLH for Lufthansa, etc.)\n",
    "- **number**: the commercial number of the flight, when available (the\n",
    "  matching with the callsign comes from public open API)\n",
    "- **icao24**: the transponder unique identification number;\n",
    "- **registration**: the aircraft tail number (when available);\n",
    "- **typecode**: the aircraft model type (when available);\n",
    "- **origin**: a four letter code for the origin airport of the flight\n",
    "  (when available);\n",
    "- **destination**: a four letter code for the destination airport of\n",
    "  the flight (when available);\n",
    "- **firstseen**: the UTC timestamp of the first message received by\n",
    "  the OpenSky Network;\n",
    "- **lastseen**: the UTC timestamp of the last message received by the\n",
    "  OpenSky Network;\n",
    "- **day**: the UTC day of the last message received by the OpenSky\n",
    "  Network."
   ]
  },
  {
   "cell_type": "markdown",
   "id": "6541d0ef",
   "metadata": {},
   "source": [
    "# Simple Data Separation and Exploration"
   ]
  },
  {
   "cell_type": "code",
   "execution_count": null,
   "id": "a8bde455",
   "metadata": {},
   "outputs": [],
   "source": [
    "df = spark.read.csv('/user/s1919377/flights/*', header='true')\n",
    "df = df.withColumn('firstseen',to_timestamp('firstseen', 'yyyy-MM-dd HH:mm:ss')) \\\n",
    "       .withColumn('lastseen',to_timestamp('lastseen', 'yyyy-MM-dd HH:mm:ss')) \\\n",
    "       .withColumn('month',to_timestamp('day', 'yyyy-MM')) \\\n",
    "       .withColumn('longitude_1',col('longitude_1').cast('float')) \\\n",
    "       .withColumn('longitude_2',col('longitude_2').cast('float')) \\\n",
    "       .withColumn('latitude_1',col('latitude_1').cast('float')) \\\n",
    "       .withColumn('latitude_2',col('latitude_2').cast('float')) \\\n",
    "       .withColumn('altitude_1',col('altitude_1').cast('float')) \\\n",
    "       .withColumn('altitude_2',col('altitude_2').cast('float'))\n",
    "df.show(truncate=False)\n",
    "df.printSchema()"
   ]
  },
  {
   "cell_type": "code",
   "execution_count": null,
   "id": "1ae0f963",
   "metadata": {},
   "outputs": [],
   "source": [
    "df_baseline = df.where(col('day').contains('2019-01'))\n",
    "df_progression = df.where(~col('day').contains('2019-01'))\n",
    "df1 = df_baseline.groupBy('origin').count().sort(col('count').desc()).dropna()\n",
    "df2 = df_progression.groupBy('origin', 'month').count().sort(col('count').desc()).dropna()\n",
    "df1.show(10)\n",
    "df2.show(10)"
   ]
  },
  {
   "cell_type": "code",
   "execution_count": null,
   "id": "404e0912",
   "metadata": {},
   "outputs": [],
   "source": [
    "# Take the 100 most populair airports from 2019-01\n",
    "df1_limit = df1.limit(100)\n",
    "pd1 = df1_limit.toPandas()\n",
    "\n",
    "pd1.to_csv('distribution-panda-' + df_baseline.first()['month'].date().strftime('%Y-%m') + '.csv')\n",
    "\n",
    "# Take the same airports from the dataframe with everything after 2019-01\n",
    "df2_limit = df2.filter(df2.origin.isin(pd1['origin'].values.tolist()))\n",
    "try:\n",
    "    df2_limit.write.csv('df2_limit.csv')\n",
    "except:\n",
    "    print('df2_limit.csv already exists')"
   ]
  },
  {
   "cell_type": "code",
   "execution_count": null,
   "id": "2c23cd9f",
   "metadata": {},
   "outputs": [],
   "source": [
    "# Create an array of Pandas DataFrames, where each DataFrame contains the one month after 2019-01, \n",
    "# with the origin count per airport\n",
    "\n",
    "# df2_limit = pd.read_csv('df2_limit.csv')\n",
    "\n",
    "df2_rest = df2_limit.sort(col('month').asc())\n",
    "\n",
    "# Check which DataFrames already exist as csv\n",
    "filenames = os.listdir('.')\n",
    "existing_months = []\n",
    "for f in filenames:\n",
    "    if f.startswith('distribution-panda-'):\n",
    "        existing_months.append(datetime.datetime.strptime(f[len('distribution-panda-'):-len('.csv')], '%Y-%m'))\n",
    "df2_rest = df2_rest.filter(~df2_rest.month.isin(existing_months))\n",
    "\n",
    "while (df2_rest.count() > 0):\n",
    "    month = df2_rest.first()['month']\n",
    "    df2_month = df2_rest.limit(100).where(col('month') == month)\n",
    "    pd2 = df2_month.toPandas()\n",
    "    # Put this new DataFrame in the same order as the first DataFrame\n",
    "    pd2['index'] = pd2.apply(lambda row: pd1[pd1['origin'] == row['origin']].index.tolist()[0], axis=1)\n",
    "    pd2 = pd2.set_index('index').sort_index()\n",
    "    pd2.to_csv('distribution-panda-' + month.date().strftime('%Y-%m' + '.csv'))\n",
    "    \n",
    "    df2_rest = df2_rest.subtract(df2_month)"
   ]
  },
  {
   "cell_type": "code",
   "execution_count": null,
   "id": "a0ddd949",
   "metadata": {},
   "outputs": [],
   "source": [
    "# Animate the progression of the air traffic distribution\n",
    "\n",
    "# Show the distribution of air traffic over the airports on the first day\n",
    "fig, ax = plt.subplots()\n",
    "\n",
    "plt.xlabel('Most Popular Airport')\n",
    "plt.ylabel('Amount of Flights')\n",
    "\n",
    "ax.set_xlim(0, 100)\n",
    "ax.set_ylim(0, 25000)\n",
    "\n",
    "ax.plot(pd1.index, pd1['count'])\n",
    "\n",
    "line, = ax.plot([], [])\n",
    "\n",
    "def init():\n",
    "    line.set_data([], [])\n",
    "    return line,\n",
    "\n",
    "pds_files = []\n",
    "filenames = os.listdir('.')\n",
    "for f in filenames:\n",
    "    if f.startswith('distribution-panda-'):\n",
    "        pds_files.append(f)\n",
    "\n",
    "def animate(i):\n",
    "    pd_progress = pd.read_csv('./' + pds_files[i])\n",
    "    \n",
    "    plt.title(pds_files[i][len('distribution-panda-'):-len('.csv')])\n",
    "    \n",
    "    line.set_data(pd_progress.index, pd_progress[\"count\"])\n",
    "    \n",
    "    return line,\n",
    "    \n",
    "anim = FuncAnimation(fig, animate, init_func = init, frames = len(pds_files), interval = 500)\n",
    "HTML(anim.to_html5_video())"
   ]
  },
  {
   "cell_type": "code",
   "execution_count": null,
   "id": "8905a2b8",
   "metadata": {},
   "outputs": [],
   "source": []
  }
 ],
 "metadata": {
  "kernelspec": {
   "display_name": "Python 3",
   "language": "python",
   "name": "python3"
  },
  "language_info": {
   "codemirror_mode": {
    "name": "ipython",
    "version": 3
   },
   "file_extension": ".py",
   "mimetype": "text/x-python",
   "name": "python",
   "nbconvert_exporter": "python",
   "pygments_lexer": "ipython3",
   "version": "3.6.9"
  }
 },
 "nbformat": 4,
 "nbformat_minor": 5
}
